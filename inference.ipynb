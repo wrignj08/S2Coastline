{
 "cells": [
  {
   "cell_type": "code",
   "execution_count": 1,
   "metadata": {},
   "outputs": [],
   "source": [
    "import rasterio as rio\n",
    "import torch\n",
    "import numpy as np\n",
    "from tqdm.auto import tqdm\n",
    "from pathlib import Path\n",
    "import pickle\n",
    "\n",
    "from fastai.vision.all import *\n",
    "import gc"
   ]
  },
  {
   "cell_type": "code",
   "execution_count": 2,
   "metadata": {},
   "outputs": [
    {
     "name": "stdout",
     "output_type": "stream",
     "text": [
      "24\n"
     ]
    }
   ],
   "source": [
    "model_name = \"regnety_006_v1.17_model.pkl\"\n",
    "raster_folder = Path(\"/media/nick/SNEAKERNET/inference_scenes_5\")\n",
    "raster_files = list(raster_folder.glob(\"[!.]*[!pred].tif\"))\n",
    "print(len(raster_files))"
   ]
  },
  {
   "cell_type": "code",
   "execution_count": 3,
   "metadata": {},
   "outputs": [],
   "source": [
    "means = [\n",
    "    0.09561849,\n",
    "    0.09644007,\n",
    "    0.09435602,\n",
    "    0.09631168,\n",
    "    0.09356618,\n",
    "    0.09504625,\n",
    "    0.09509373,\n",
    "    0.09508776,\n",
    "    0.0911776,\n",
    "    0.091464,\n",
    "    0.09334985,\n",
    "    0.09400712,\n",
    "]\n",
    "stds = [\n",
    "    0.02369863,\n",
    "    0.03057647,\n",
    "    0.0244495,\n",
    "    0.03169953,\n",
    "    0.02380443,\n",
    "    0.03068336,\n",
    "    0.02376207,\n",
    "    0.03026029,\n",
    "    0.02387124,\n",
    "    0.03011121,\n",
    "    0.02285621,\n",
    "    0.02902071,\n",
    "]\n",
    "means = np.array(means)\n",
    "stds = np.array(stds)"
   ]
  },
  {
   "cell_type": "code",
   "execution_count": 4,
   "metadata": {},
   "outputs": [],
   "source": [
    "def normalise(band_stack):\n",
    "    band_stack = band_stack.astype(\"float16\") / 32767\n",
    "    band_stack = band_stack - means[:, np.newaxis, np.newaxis]\n",
    "    band_stack = band_stack / stds[:, np.newaxis, np.newaxis]\n",
    "    return band_stack"
   ]
  },
  {
   "cell_type": "code",
   "execution_count": 5,
   "metadata": {},
   "outputs": [],
   "source": [
    "def make_patches(band_stack, patch_size):\n",
    "    patches = []\n",
    "    top = 0\n",
    "    left = 0\n",
    "    for i in range(10):\n",
    "        for j in range(10):\n",
    "            patch = band_stack[:, top : top + patch_size, left : left + patch_size]\n",
    "            patches.append(patch)\n",
    "            left += patch_size\n",
    "        left = 0\n",
    "        top += patch_size\n",
    "    return patches"
   ]
  },
  {
   "cell_type": "code",
   "execution_count": 6,
   "metadata": {},
   "outputs": [],
   "source": [
    "def inference(patches, model):\n",
    "    preds = []\n",
    "    for patch in tqdm(patches, leave=False):\n",
    "        pred = model(TensorImage(patch).unsqueeze(0).cuda().half())\n",
    "        pred = pred.squeeze().cpu().detach().numpy()\n",
    "        preds.append(pred)\n",
    "    return np.array(preds)"
   ]
  },
  {
   "cell_type": "code",
   "execution_count": 7,
   "metadata": {},
   "outputs": [],
   "source": [
    "def stitch_preds(preds_np_mean, patch_size):\n",
    "    pred_array = np.zeros((10980, 10980))\n",
    "    for i in range(10):\n",
    "        for j in range(10):\n",
    "            pred_array[\n",
    "                i * patch_size : (i + 1) * patch_size,\n",
    "                j * patch_size : (j + 1) * patch_size,\n",
    "            ] = preds_np_mean[i * 10 + j]\n",
    "    return pred_array"
   ]
  },
  {
   "cell_type": "code",
   "execution_count": 8,
   "metadata": {},
   "outputs": [],
   "source": [
    "def export_pred(output_path, pred_array, src_raster):\n",
    "    profile = src_raster.profile.copy()\n",
    "    profile.update(dtype=rio.int8, count=1, compress=\"lzw\", driver=\"GTiff\")\n",
    "    with rio.open(output_path, \"w\", **profile) as dst:\n",
    "        dst.write(pred_array > 0, 1)"
   ]
  },
  {
   "cell_type": "code",
   "execution_count": 9,
   "metadata": {},
   "outputs": [],
   "source": [
    "model = pickle.load(open(model_name, \"rb\")).half()\n",
    "patch_size = 1098"
   ]
  },
  {
   "cell_type": "code",
   "execution_count": 10,
   "metadata": {},
   "outputs": [
    {
     "data": {
      "application/vnd.jupyter.widget-view+json": {
       "model_id": "c43d6aea12724631a1b9bdde5ebb3ab6",
       "version_major": 2,
       "version_minor": 0
      },
      "text/plain": [
       "  0%|          | 0/24 [00:00<?, ?it/s]"
      ]
     },
     "metadata": {},
     "output_type": "display_data"
    },
    {
     "data": {
      "application/vnd.jupyter.widget-view+json": {
       "model_id": "872a65683e0646a4acb1cd3b64bc638b",
       "version_major": 2,
       "version_minor": 0
      },
      "text/plain": [
       "  0%|          | 0/100 [00:00<?, ?it/s]"
      ]
     },
     "metadata": {},
     "output_type": "display_data"
    }
   ],
   "source": [
    "for raster_path in tqdm(raster_files):\n",
    "    output_path = Path(str(raster_path).replace(\".tif\", \"_pred.tif\"))\n",
    "    if output_path.exists():\n",
    "        continue\n",
    "    src_raster = rio.open(raster_path)\n",
    "    band_stack = src_raster.read()\n",
    "    band_stack = band_stack.astype(\"float16\")\n",
    "\n",
    "    band_stack = normalise(band_stack)\n",
    "    patches = make_patches(band_stack, patch_size)\n",
    "\n",
    "    del band_stack\n",
    "\n",
    "    preds_np_mean = inference(patches, model)\n",
    "\n",
    "    del patches\n",
    "\n",
    "    pred_array = stitch_preds(preds_np_mean, patch_size)\n",
    "\n",
    "    del preds_np_mean\n",
    "\n",
    "    export_pred(output_path, pred_array, src_raster)\n",
    "\n",
    "    torch.cuda.empty_cache()\n",
    "    gc.collect()"
   ]
  },
  {
   "cell_type": "code",
   "execution_count": null,
   "metadata": {},
   "outputs": [],
   "source": []
  }
 ],
 "metadata": {
  "kernelspec": {
   "display_name": "c2m",
   "language": "python",
   "name": "python3"
  },
  "language_info": {
   "codemirror_mode": {
    "name": "ipython",
    "version": 3
   },
   "file_extension": ".py",
   "mimetype": "text/x-python",
   "name": "python",
   "nbconvert_exporter": "python",
   "pygments_lexer": "ipython3",
   "version": "3.7.12"
  }
 },
 "nbformat": 4,
 "nbformat_minor": 2
}
