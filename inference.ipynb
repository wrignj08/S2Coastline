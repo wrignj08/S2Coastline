{
 "cells": [
  {
   "cell_type": "code",
   "execution_count": null,
   "metadata": {},
   "outputs": [],
   "source": [
    "from pathlib import Path\n",
    "import pickle\n",
    "import rasterio as rio\n",
    "import numpy as np\n",
    "from tqdm.auto import tqdm\n",
    "import torch\n",
    "from fastai.torch_core import TensorImage"
   ]
  },
  {
   "cell_type": "code",
   "execution_count": null,
   "metadata": {},
   "outputs": [],
   "source": [
    "model_name = \"regnety_006_v1.09_model.pkl\"\n",
    "raster_folder = Path(\"/media/nick/SSD1/Coast test/Tas\")\n",
    "raster_files = list(raster_folder.glob(\"[!.]*[!pred].tif\"))\n",
    "print(len(raster_files))"
   ]
  },
  {
   "cell_type": "code",
   "execution_count": null,
   "metadata": {},
   "outputs": [],
   "source": [
    "def normalise(band_stack):\n",
    "    mean = 0.06330473795822207\n",
    "    std = 0.02668270641026416\n",
    "    return ((band_stack / 32767) - mean) / std"
   ]
  },
  {
   "cell_type": "code",
   "execution_count": null,
   "metadata": {},
   "outputs": [],
   "source": [
    "def make_patches(band_stack, patch_size):\n",
    "    patches = []\n",
    "    top = 0\n",
    "    left = 0\n",
    "    for i in range(10):\n",
    "        for j in range(10):\n",
    "            patch = band_stack[:, top : top + patch_size, left : left + patch_size]\n",
    "            patches.append(patch)\n",
    "            left += patch_size\n",
    "        left = 0\n",
    "        top += patch_size\n",
    "    return patches"
   ]
  },
  {
   "cell_type": "code",
   "execution_count": null,
   "metadata": {},
   "outputs": [],
   "source": [
    "def tta_inference(patches, model):\n",
    "    preds = []\n",
    "    for patch in tqdm(patches, leave=False):\n",
    "        front = patch[:4]\n",
    "        back = patch[4:]\n",
    "        patch = np.concatenate((back, front), axis=0)\n",
    "        pred = model(TensorImage(patch).unsqueeze(0).cuda())\n",
    "        pred = pred.squeeze().cpu().detach().numpy()\n",
    "        preds.append(pred)\n",
    "    return np.array(preds)"
   ]
  },
  {
   "cell_type": "code",
   "execution_count": null,
   "metadata": {},
   "outputs": [],
   "source": [
    "def stitch_preds(preds_np_mean, patch_size):\n",
    "    pred_array = np.zeros((10980, 10980))\n",
    "    for i in range(10):\n",
    "        for j in range(10):\n",
    "            pred_array[\n",
    "                i * patch_size : (i + 1) * patch_size,\n",
    "                j * patch_size : (j + 1) * patch_size,\n",
    "            ] = preds_np_mean[i * 10 + j]\n",
    "    return pred_array"
   ]
  },
  {
   "cell_type": "code",
   "execution_count": null,
   "metadata": {},
   "outputs": [],
   "source": [
    "def export_pred(output_path, pred_array, src_raster):\n",
    "    profile = src_raster.profile.copy()\n",
    "    profile.update(dtype=rio.int8, count=1, compress=\"lzw\", driver=\"GTiff\")\n",
    "    with rio.open(output_path, \"w\", **profile) as dst:\n",
    "        dst.write(pred_array > 0, 1)"
   ]
  },
  {
   "cell_type": "code",
   "execution_count": null,
   "metadata": {},
   "outputs": [],
   "source": [
    "model = pickle.load(open(model_name, \"rb\"))\n",
    "patch_size = 1098"
   ]
  },
  {
   "cell_type": "code",
   "execution_count": null,
   "metadata": {},
   "outputs": [],
   "source": [
    "for raster_path in tqdm(raster_files):\n",
    "    output_path = Path(str(raster_path).replace(\".tif\", \"_pred.tif\"))\n",
    "    if output_path.exists():\n",
    "        continue\n",
    "    src_raster = rio.open(raster_path)\n",
    "    band_stack = src_raster.read()\n",
    "    band_stack = normalise(band_stack)\n",
    "    patches = make_patches(band_stack, patch_size)\n",
    "    del band_stack\n",
    "\n",
    "    preds_np_mean = tta_inference(patches, model)\n",
    "    del patches\n",
    "\n",
    "    pred_array = stitch_preds(preds_np_mean, patch_size)\n",
    "    del preds_np_mean\n",
    "\n",
    "    export_pred(output_path, pred_array, src_raster)\n",
    "\n",
    "    torch.cuda.empty_cache()"
   ]
  }
 ],
 "metadata": {
  "kernelspec": {
   "display_name": "c2m",
   "language": "python",
   "name": "python3"
  },
  "language_info": {
   "codemirror_mode": {
    "name": "ipython",
    "version": 3
   },
   "file_extension": ".py",
   "mimetype": "text/x-python",
   "name": "python",
   "nbconvert_exporter": "python",
   "pygments_lexer": "ipython3",
   "version": "3.7.12"
  }
 },
 "nbformat": 4,
 "nbformat_minor": 2
}
