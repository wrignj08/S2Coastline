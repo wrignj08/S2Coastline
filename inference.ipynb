{
 "cells": [
  {
   "cell_type": "code",
   "execution_count": null,
   "metadata": {},
   "outputs": [],
   "source": [
    "import rasterio as rio\n",
    "import torch\n",
    "import numpy as np\n",
    "from tqdm.auto import tqdm\n",
    "from pathlib import Path\n",
    "import pickle\n",
    "\n",
    "# from fastai.vision.all import *\n",
    "import gc\n",
    "from torch import Tensor\n",
    "from threading import Thread\n",
    "import time"
   ]
  },
  {
   "cell_type": "code",
   "execution_count": null,
   "metadata": {},
   "outputs": [],
   "source": []
  },
  {
   "cell_type": "code",
   "execution_count": null,
   "metadata": {},
   "outputs": [],
   "source": [
    "model_name = \"regnety_002_v1.26_model.pkl\"\n",
    "raster_folder = Path(\"/media/nick/SNEAKERNET/inference_scenes_5\")\n",
    "raster_files = list(raster_folder.glob(\"[!.]*[!pred].tif\"))\n",
    "print(len(raster_files))"
   ]
  },
  {
   "cell_type": "code",
   "execution_count": null,
   "metadata": {},
   "outputs": [],
   "source": [
    "model = pickle.load(open(Path.cwd() / f\"models/{model_name}\", \"rb\")).half().cuda()"
   ]
  },
  {
   "cell_type": "code",
   "execution_count": null,
   "metadata": {},
   "outputs": [],
   "source": [
    "patch_size = 1000\n",
    "overlap = 50\n",
    "binary_output = True\n",
    "binary_model = False"
   ]
  },
  {
   "cell_type": "code",
   "execution_count": null,
   "metadata": {},
   "outputs": [],
   "source": [
    "means = [\n",
    "    0.09561849,\n",
    "    0.09644007,\n",
    "    0.09435602,\n",
    "    0.09631168,\n",
    "    0.09356618,\n",
    "    0.09504625,\n",
    "    0.09509373,\n",
    "    0.09508776,\n",
    "    0.0911776,\n",
    "    0.091464,\n",
    "    0.09334985,\n",
    "    0.09400712,\n",
    "]\n",
    "stds = [\n",
    "    0.02369863,\n",
    "    0.03057647,\n",
    "    0.0244495,\n",
    "    0.03169953,\n",
    "    0.02380443,\n",
    "    0.03068336,\n",
    "    0.02376207,\n",
    "    0.03026029,\n",
    "    0.02387124,\n",
    "    0.03011121,\n",
    "    0.02285621,\n",
    "    0.02902071,\n",
    "]\n",
    "means = np.array(means)\n",
    "stds = np.array(stds)"
   ]
  },
  {
   "cell_type": "code",
   "execution_count": null,
   "metadata": {},
   "outputs": [],
   "source": [
    "def normalise(band_stack):\n",
    "    band_stack = band_stack.astype(\"float16\") / 32767\n",
    "    band_stack = band_stack - means[:, np.newaxis, np.newaxis]\n",
    "    band_stack = band_stack / stds[:, np.newaxis, np.newaxis]\n",
    "    return band_stack"
   ]
  },
  {
   "cell_type": "code",
   "execution_count": null,
   "metadata": {},
   "outputs": [],
   "source": [
    "def create_gradient_mask(patch_size, patch_overlap_px):\n",
    "    if patch_overlap_px > 0:\n",
    "        gradient_strength = 1\n",
    "        gradient = np.ones((patch_size, patch_size), dtype=int) * patch_overlap_px\n",
    "        gradient[:, :patch_overlap_px] = np.tile(\n",
    "            np.arange(1, patch_overlap_px + 1),\n",
    "            (patch_size, 1),\n",
    "        )\n",
    "        gradient[:, -patch_overlap_px:] = np.tile(\n",
    "            np.arange(patch_overlap_px, 0, -1),\n",
    "            (patch_size, 1),\n",
    "        )\n",
    "        gradient = gradient / patch_overlap_px\n",
    "        rotated_gradient = np.rot90(gradient)\n",
    "        combined_gradient = rotated_gradient * gradient\n",
    "\n",
    "        combined_gradient = (combined_gradient * gradient_strength) + (\n",
    "            1 - gradient_strength\n",
    "        )\n",
    "    else:\n",
    "        combined_gradient = np.ones((patch_size, patch_size), dtype=int)\n",
    "    return combined_gradient"
   ]
  },
  {
   "cell_type": "code",
   "execution_count": null,
   "metadata": {},
   "outputs": [],
   "source": [
    "def make_patches(band_stack, patch_size, overlap=20, scene_size=10980):\n",
    "    patches = []\n",
    "    locations = []\n",
    "    top = 0\n",
    "    left = 0\n",
    "    top_stop = False\n",
    "    row_count = scene_size // (patch_size - overlap) + 1\n",
    "    print(row_count)\n",
    "    b_bar = tqdm(total=row_count, desc=\"Making patches\", leave=False)\n",
    "    while not top_stop:\n",
    "        left_stop = False\n",
    "        if top + patch_size > scene_size:\n",
    "            top = scene_size - patch_size\n",
    "            top_stop = True\n",
    "\n",
    "        while not left_stop:\n",
    "            if left + patch_size > scene_size:\n",
    "                left = scene_size - patch_size\n",
    "                left_stop = True\n",
    "            patch = band_stack[:, top : top + patch_size, left : left + patch_size]\n",
    "\n",
    "            patches.append(patch)\n",
    "            locations.append((top, left))\n",
    "            left += patch_size - overlap\n",
    "\n",
    "        left = 0\n",
    "        top += patch_size - overlap\n",
    "        b_bar.update(1)\n",
    "\n",
    "    return patches, locations"
   ]
  },
  {
   "cell_type": "code",
   "execution_count": null,
   "metadata": {},
   "outputs": [],
   "source": [
    "def stitch_preds(preds, locations, overlap=20, scene_size=10980):\n",
    "    gradient = create_gradient_mask(preds[0].shape[-1], overlap)\n",
    "    pred_array = np.zeros((scene_size, scene_size))\n",
    "    count_tracker = np.zeros((scene_size, scene_size))\n",
    "\n",
    "    for pred, location in tqdm(\n",
    "        zip(preds, locations), leave=False, desc=\"Stitching\", total=len(preds)\n",
    "    ):\n",
    "        top, left = location\n",
    "        pred_array[top : top + pred.shape[-1], left : left + pred.shape[-1]] = (\n",
    "            pred_array[top : top + pred.shape[-1], left : left + pred.shape[-1]]\n",
    "            + pred * gradient\n",
    "        )\n",
    "        count_tracker[\n",
    "            top : top + pred.shape[-1], left : left + pred.shape[-1]\n",
    "        ] += gradient\n",
    "    pred_array = pred_array / count_tracker\n",
    "\n",
    "    return pred_array"
   ]
  },
  {
   "cell_type": "code",
   "execution_count": null,
   "metadata": {},
   "outputs": [],
   "source": [
    "def export_pred(output_path, pred_array, src_raster, binary=True):\n",
    "    profile = src_raster.profile.copy()\n",
    "    profile[\"nodata\"] = None\n",
    "    if binary:\n",
    "        profile.update(dtype=rio.int8, count=1, compress=\"lzw\", driver=\"GTiff\")\n",
    "        with rio.open(output_path, \"w\", **profile) as dst:\n",
    "            dst.write(pred_array > 0, 1)\n",
    "    else:\n",
    "        profile.update(dtype=rio.float32, count=1, compress=\"lzw\", driver=\"GTiff\")\n",
    "        with rio.open(output_path, \"w\", **profile) as dst:\n",
    "            dst.write(pred_array, 1)"
   ]
  },
  {
   "cell_type": "code",
   "execution_count": null,
   "metadata": {},
   "outputs": [],
   "source": [
    "def merge_and_save(\n",
    "    preds, locations, overlap, scene_size, output_path, src_raster, binary=False\n",
    "):\n",
    "    pred_array = stitch_preds(preds, locations, overlap, scene_size)\n",
    "    export_pred(output_path, pred_array, src_raster, binary)\n",
    "    del pred_array\n",
    "    del preds\n",
    "    gc.collect()"
   ]
  },
  {
   "cell_type": "code",
   "execution_count": null,
   "metadata": {},
   "outputs": [],
   "source": [
    "def inference(patches, model):\n",
    "    preds = []\n",
    "    for patch in tqdm(patches, leave=False, desc=\"Inference\"):\n",
    "        pred = model(Tensor(normalise(patch)).unsqueeze(0).cuda().half())\n",
    "        pred = pred.squeeze().cpu().detach().numpy()\n",
    "        preds.append(pred)\n",
    "    return np.array(preds)"
   ]
  },
  {
   "cell_type": "code",
   "execution_count": null,
   "metadata": {},
   "outputs": [],
   "source": [
    "save_thread = Thread()\n",
    "\n",
    "for raster_path in tqdm(raster_files):\n",
    "    output_path = Path(str(raster_path).replace(\".tif\", \"_pred.tif\"))\n",
    "    if output_path.exists():\n",
    "        continue\n",
    "    src_raster = rio.open(raster_path)\n",
    "    band_stack = src_raster.read()\n",
    "    scene_size = band_stack.shape[-1]\n",
    "\n",
    "    patches, locations = make_patches(band_stack, patch_size, overlap, scene_size)\n",
    "\n",
    "    del band_stack\n",
    "\n",
    "    preds = inference(patches, model)\n",
    "    del patches\n",
    "    save_thread = Thread(\n",
    "        target=merge_and_save,\n",
    "        args=(\n",
    "            preds,\n",
    "            locations,\n",
    "            overlap,\n",
    "            scene_size,\n",
    "            output_path,\n",
    "            src_raster,\n",
    "            binary_output,\n",
    "        ),\n",
    "    )\n",
    "    save_thread.start()\n",
    "\n",
    "while save_thread.is_alive():\n",
    "    time.sleep(1)"
   ]
  },
  {
   "cell_type": "code",
   "execution_count": null,
   "metadata": {},
   "outputs": [],
   "source": []
  }
 ],
 "metadata": {
  "kernelspec": {
   "display_name": "c2m",
   "language": "python",
   "name": "python3"
  },
  "language_info": {
   "codemirror_mode": {
    "name": "ipython",
    "version": 3
   },
   "file_extension": ".py",
   "mimetype": "text/x-python",
   "name": "python",
   "nbconvert_exporter": "python",
   "pygments_lexer": "ipython3",
   "version": "3.8.16"
  }
 },
 "nbformat": 4,
 "nbformat_minor": 2
}
