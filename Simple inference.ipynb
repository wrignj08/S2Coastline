{
 "cells": [
  {
   "cell_type": "code",
   "execution_count": 1,
   "metadata": {},
   "outputs": [],
   "source": [
    "from helpers.coordinator import processor\n",
    "from helpers.vectorize import extract_coastline\n",
    "from pathlib import Path"
   ]
  },
  {
   "cell_type": "code",
   "execution_count": 2,
   "metadata": {},
   "outputs": [],
   "source": [
    "extract_start_year = 2022\n",
    "extract_end_year = 2023\n",
    "\n",
    "model_path = Path(\"models/regnety_002_v1.31_model.pkl\")\n",
    "working_dir = Path(\n",
    "    # \"/Users/nick/Desktop/CL test\"\n",
    "    f\"/media/nick/SNEAKERNET/World working v6 {extract_start_year}-{extract_end_year}\"\n",
    ")\n",
    "grid_file = Path(\"data/S-2 grid coastal world.gpkg\")\n",
    "tide_key_path = Path(\"world_tide_key.txt\")"
   ]
  },
  {
   "cell_type": "code",
   "execution_count": 3,
   "metadata": {},
   "outputs": [
    {
     "name": "stdout",
     "output_type": "stream",
     "text": [
      "Loading grid\n",
      "No filter names provided, using all names\n"
     ]
    },
    {
     "data": {
      "application/vnd.jupyter.widget-view+json": {
       "model_id": "5e4d73b55468473fb2b64968b17a99e8",
       "version_major": 2,
       "version_minor": 0
      },
      "text/plain": [
       "Total Progress:   0%|          | 0/6676 [00:00<?, ?it/s]"
      ]
     },
     "metadata": {},
     "output_type": "display_data"
    },
    {
     "data": {
      "application/vnd.jupyter.widget-view+json": {
       "model_id": "0f5abf2f98e348b38614d4cabdda5c43",
       "version_major": 2,
       "version_minor": 0
      },
      "text/plain": [
       "Downloading:   0%|          | 0/10 [00:00<?, ?it/s]"
      ]
     },
     "metadata": {},
     "output_type": "display_data"
    },
    {
     "data": {
      "application/vnd.jupyter.widget-view+json": {
       "model_id": "d20f9b8fd39c4a14a1fd33c9f91a6e80",
       "version_major": 2,
       "version_minor": 0
      },
      "text/plain": [
       "Waiting for download:   0%|          | 0/10 [00:00<?, ?it/s]"
      ]
     },
     "metadata": {},
     "output_type": "display_data"
    },
    {
     "name": "stdout",
     "output_type": "stream",
     "text": [
      "No scenes found for 01DCF\n",
      "Failed on 01DCF\n",
      "No scenes found for 06KZC\n",
      "Failed on 06KZC\n",
      "No scenes found for 07KBT\n",
      "Failed on 07KBT\n",
      "No scenes found for 11RPH\n",
      "Failed on 11RPH\n",
      "No scenes found for 23XNP\n",
      "Failed on 23XNP\n",
      "No scenes found for 24XWU\n",
      "Failed on 24XWU\n",
      "No scenes found for 25XEP\n",
      "Failed on 25XEP\n",
      "Zero count in combined_arrays 40525404\n",
      "Zero count in combined_arrays 0\n",
      "Zero count in combined_arrays 7724\n",
      "Zero count in combined_arrays 0\n"
     ]
    }
   ],
   "source": [
    "processor(\n",
    "    vector_path=grid_file,\n",
    "    model_path=model_path,\n",
    "    working_dir=working_dir,\n",
    "    tide_key_path=tide_key_path,\n",
    "    extract_start_year=extract_start_year,\n",
    "    extract_end_year=extract_end_year,\n",
    "    # filter_names=[\"18FWF\"],\n",
    "    use_tides=False,\n",
    "    save_scene=False,\n",
    "    fast_mode=True,\n",
    ")"
   ]
  },
  {
   "cell_type": "code",
   "execution_count": null,
   "metadata": {},
   "outputs": [],
   "source": [
    "extract_coastline(working_dir)"
   ]
  },
  {
   "cell_type": "code",
   "execution_count": null,
   "metadata": {},
   "outputs": [],
   "source": []
  }
 ],
 "metadata": {
  "kernelspec": {
   "display_name": "c2m_prod",
   "language": "python",
   "name": "python3"
  },
  "language_info": {
   "codemirror_mode": {
    "name": "ipython",
    "version": 3
   },
   "file_extension": ".py",
   "mimetype": "text/x-python",
   "name": "python",
   "nbconvert_exporter": "python",
   "pygments_lexer": "ipython3",
   "version": "3.8.16"
  }
 },
 "nbformat": 4,
 "nbformat_minor": 2
}
