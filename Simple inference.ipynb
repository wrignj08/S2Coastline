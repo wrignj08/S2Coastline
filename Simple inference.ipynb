{
 "cells": [
  {
   "cell_type": "code",
   "execution_count": 1,
   "metadata": {},
   "outputs": [],
   "source": [
    "from helpers.coordinator import processor\n",
    "from helpers.vectorize import extract_coastline\n",
    "from pathlib import Path"
   ]
  },
  {
   "cell_type": "code",
   "execution_count": 2,
   "metadata": {},
   "outputs": [],
   "source": [
    "model_path = Path(\"models/regnety_002_v1.29_model.pkl\")\n",
    "working_dir = Path(\n",
    "    # \"/Users/nick/Desktop/CL test\"\n",
    "    \"/media/nick/SNEAKERNET/Aus working v11\"\n",
    ")\n",
    "grid_file = Path(\"data/S-2 grid coastal Aus.gpkg\")\n",
    "tide_key_path = Path(\"world_tide_key.txt\")\n",
    "\n",
    "extract_start_year = 2022\n",
    "extract_end_year = 2022"
   ]
  },
  {
   "cell_type": "code",
   "execution_count": null,
   "metadata": {},
   "outputs": [],
   "source": [
    "processor(\n",
    "    vector_path=grid_file,\n",
    "    model_path=model_path,\n",
    "    working_dir=working_dir,\n",
    "    tide_key_path=tide_key_path,\n",
    "    extract_start_year=extract_start_year,\n",
    "    extract_end_year=extract_end_year,\n",
    "    # filter_names=[\"50KNC\"],\n",
    ")"
   ]
  },
  {
   "cell_type": "code",
   "execution_count": 3,
   "metadata": {},
   "outputs": [
    {
     "data": {
      "application/vnd.jupyter.widget-view+json": {
       "model_id": "4cea822198944928921f39646b3de549",
       "version_major": 2,
       "version_minor": 0
      },
      "text/plain": [
       "Getting raster bounds:   0%|          | 0/298 [00:00<?, ?it/s]"
      ]
     },
     "metadata": {},
     "output_type": "display_data"
    },
    {
     "data": {
      "application/vnd.jupyter.widget-view+json": {
       "model_id": "324044019abf4effa7bb5e7798f31807",
       "version_major": 2,
       "version_minor": 0
      },
      "text/plain": [
       "Extracting polygons:   0%|          | 0/298 [00:00<?, ?it/s]"
      ]
     },
     "metadata": {},
     "output_type": "display_data"
    },
    {
     "data": {
      "application/vnd.jupyter.widget-view+json": {
       "model_id": "6afa389de9a24796b00a0c63a6bb3397",
       "version_major": 2,
       "version_minor": 0
      },
      "text/plain": [
       "Cleaning geometry:   0%|          | 0/5 [00:00<?, ?it/s]"
      ]
     },
     "metadata": {},
     "output_type": "display_data"
    },
    {
     "data": {
      "text/plain": [
       "PosixPath('/Users/nick/Desktop/CL test/Aus working v8.gpkg')"
      ]
     },
     "execution_count": 3,
     "metadata": {},
     "output_type": "execute_result"
    }
   ],
   "source": [
    "extract_coastline(working_dir)"
   ]
  },
  {
   "cell_type": "code",
   "execution_count": null,
   "metadata": {},
   "outputs": [],
   "source": []
  }
 ],
 "metadata": {
  "kernelspec": {
   "display_name": "c2m_prod",
   "language": "python",
   "name": "python3"
  },
  "language_info": {
   "codemirror_mode": {
    "name": "ipython",
    "version": 3
   },
   "file_extension": ".py",
   "mimetype": "text/x-python",
   "name": "python",
   "nbconvert_exporter": "python",
   "pygments_lexer": "ipython3",
   "version": "3.11.6"
  }
 },
 "nbformat": 4,
 "nbformat_minor": 2
}
