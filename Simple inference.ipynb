{
 "cells": [
  {
   "cell_type": "code",
   "execution_count": 1,
   "metadata": {},
   "outputs": [],
   "source": [
    "from helpers.coordinator import processor\n",
    "from helpers.vectorize import extract_coastline\n",
    "from pathlib import Path"
   ]
  },
  {
   "cell_type": "code",
   "execution_count": 2,
   "metadata": {},
   "outputs": [],
   "source": [
    "extract_start_year = 2022\n",
    "extract_end_year = 2023\n",
    "\n",
    "model_path = Path(\"models/regnety_002_v1.31_model.pkl\")\n",
    "working_dir = Path(\n",
    "    # \"/Users/nick/Desktop/CL test\"\n",
    "    f\"/media/nick/SNEAKERNET/World working v6 {extract_start_year}-{extract_end_year}\"\n",
    ")\n",
    "grid_file = Path(\"data/S-2 grid coastal world.gpkg\")\n",
    "tide_key_path = Path(\"world_tide_key.txt\")"
   ]
  },
  {
   "cell_type": "code",
   "execution_count": 3,
   "metadata": {},
   "outputs": [
    {
     "name": "stdout",
     "output_type": "stream",
     "text": [
      "Loading grid\n",
      "No filter names provided, using all names\n"
     ]
    },
    {
     "data": {
      "application/vnd.jupyter.widget-view+json": {
       "model_id": "2898e4b40e2f4e7f8c075e122b6cf65b",
       "version_major": 2,
       "version_minor": 0
      },
      "text/plain": [
       "Total Progress:   0%|          | 0/6676 [00:00<?, ?it/s]"
      ]
     },
     "metadata": {},
     "output_type": "display_data"
    },
    {
     "data": {
      "application/vnd.jupyter.widget-view+json": {
       "model_id": "d2000082bf0948c38b5e3d98ce289ac7",
       "version_major": 2,
       "version_minor": 0
      },
      "text/plain": [
       "Downloading:   0%|          | 0/10 [00:00<?, ?it/s]"
      ]
     },
     "metadata": {},
     "output_type": "display_data"
    },
    {
     "data": {
      "application/vnd.jupyter.widget-view+json": {
       "model_id": "bbeabcb9661146f3b41fe7edf9f42a03",
       "version_major": 2,
       "version_minor": 0
      },
      "text/plain": [
       "Waiting for download:   0%|          | 0/10 [00:00<?, ?it/s]"
      ]
     },
     "metadata": {},
     "output_type": "display_data"
    },
    {
     "name": "stdout",
     "output_type": "stream",
     "text": [
      "No scenes found for 01DCF\n",
      "Failed on 01DCF\n"
     ]
    }
   ],
   "source": [
    "processor(\n",
    "    vector_path=grid_file,\n",
    "    model_path=model_path,\n",
    "    working_dir=working_dir,\n",
    "    tide_key_path=tide_key_path,\n",
    "    extract_start_year=extract_start_year,\n",
    "    extract_end_year=extract_end_year,\n",
    "    # filter_names=[\"18FWF\"],\n",
    "    save_scene=False,\n",
    ")"
   ]
  },
  {
   "cell_type": "code",
   "execution_count": null,
   "metadata": {},
   "outputs": [],
   "source": [
    "extract_coastline(working_dir)"
   ]
  },
  {
   "cell_type": "code",
   "execution_count": null,
   "metadata": {},
   "outputs": [],
   "source": []
  }
 ],
 "metadata": {
  "kernelspec": {
   "display_name": "c2m_prod",
   "language": "python",
   "name": "python3"
  },
  "language_info": {
   "codemirror_mode": {
    "name": "ipython",
    "version": 3
   },
   "file_extension": ".py",
   "mimetype": "text/x-python",
   "name": "python",
   "nbconvert_exporter": "python",
   "pygments_lexer": "ipython3",
   "version": "3.8.16"
  }
 },
 "nbformat": 4,
 "nbformat_minor": 2
}
