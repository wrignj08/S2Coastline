{
 "cells": [
  {
   "cell_type": "code",
   "execution_count": null,
   "metadata": {},
   "outputs": [],
   "source": [
    "from helpers.coordinator import from_vector\n",
    "from pathlib import Path"
   ]
  },
  {
   "cell_type": "code",
   "execution_count": null,
   "metadata": {},
   "outputs": [],
   "source": [
    "model_path = Path(\"models/regnety_002_v1.29_model.pkl\")\n",
    "working_dir = Path(\n",
    "    # \"/Users/nick/Desktop/CL test\"\n",
    "    \"/media/nick/SNEAKERNET/Aus working v8\"\n",
    ")\n",
    "grid_file = Path(\"data/Senntinele 2 grid coastal Aus.gpkg\")\n",
    "tide_key_path = Path(\"world_tide_key.txt\")\n",
    "\n",
    "extract_start_year = 2022\n",
    "extract_end_year = 2022"
   ]
  },
  {
   "cell_type": "code",
   "execution_count": null,
   "metadata": {},
   "outputs": [],
   "source": [
    "from_vector(\n",
    "    vector_path=grid_file,\n",
    "    model_path=model_path,\n",
    "    working_dir=working_dir,\n",
    "    tide_key_path=tide_key_path,\n",
    "    extract_start_year=extract_start_year,\n",
    "    extract_end_year=extract_end_year,\n",
    "    # filter_names=[\"50KNC\"],\n",
    ")"
   ]
  }
 ],
 "metadata": {
  "kernelspec": {
   "display_name": "c2m_prod",
   "language": "python",
   "name": "python3"
  },
  "language_info": {
   "codemirror_mode": {
    "name": "ipython",
    "version": 3
   },
   "file_extension": ".py",
   "mimetype": "text/x-python",
   "name": "python",
   "nbconvert_exporter": "python",
   "pygments_lexer": "ipython3",
   "version": "3.11.6"
  }
 },
 "nbformat": 4,
 "nbformat_minor": 2
}
