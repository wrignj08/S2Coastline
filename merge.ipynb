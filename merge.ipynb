{
 "cells": [
  {
   "cell_type": "code",
   "execution_count": null,
   "metadata": {},
   "outputs": [],
   "source": [
    "import rasterio as rio\n",
    "from pathlib import Path\n",
    "import numpy as np\n",
    "from tqdm.auto import tqdm\n",
    "from matplotlib import pyplot as plt"
   ]
  },
  {
   "cell_type": "code",
   "execution_count": null,
   "metadata": {},
   "outputs": [],
   "source": [
    "t = Path(\"/media/nick/SNEAKERNET/SA working v6 2022-2023/scenes/18FWF.tif\")\n",
    "m = Path(\"/media/nick/SNEAKERNET/SA working v6 2022-2023/scenes/18FWF_scl.tif\")"
   ]
  },
  {
   "cell_type": "code",
   "execution_count": null,
   "metadata": {},
   "outputs": [],
   "source": [
    "array = rio.open(t).read()\n",
    "scl = rio.open(m).read(out_shape=(5490, 5490))  # .astype(np.float32)"
   ]
  },
  {
   "cell_type": "code",
   "execution_count": null,
   "metadata": {},
   "outputs": [],
   "source": [
    "array.shape, scl.shape"
   ]
  },
  {
   "cell_type": "code",
   "execution_count": null,
   "metadata": {},
   "outputs": [],
   "source": [
    "array = array.reshape(3, 12, 10980, 10980)\n",
    "# array = array.reshape(3, 12, 5490, 5490)\n",
    "\n",
    "scl = scl.reshape(3, 6, 5490, 5490)"
   ]
  },
  {
   "cell_type": "code",
   "execution_count": null,
   "metadata": {},
   "outputs": [],
   "source": [
    "scl.min(), scl.max()"
   ]
  },
  {
   "cell_type": "code",
   "execution_count": null,
   "metadata": {},
   "outputs": [],
   "source": [
    "def combine_orbits(\n",
    "    all_orbits_bands: np.ndarray, target_band_count: int, pbar: tqdm\n",
    ") -> np.ndarray:\n",
    "    \"\"\"\n",
    "    Combines multiple orbits of bands into a single array.\n",
    "    \"\"\"\n",
    "    # all_orbits_bands = np.moveaxis(all_orbits_bands, 0, 1)\n",
    "\n",
    "    out_shape = (target_band_count, *all_orbits_bands.shape[2:])\n",
    "    out_array = np.zeros(out_shape, dtype=np.float32)\n",
    "    tracking_array = np.zeros(out_shape, dtype=np.uint16)\n",
    "\n",
    "    bands_per_scene = 2\n",
    "\n",
    "    pbar.reset()\n",
    "    pbar.set_description(f\"Combining\")\n",
    "    pbar.total = all_orbits_bands.shape[0] * (\n",
    "        all_orbits_bands.shape[1] // bands_per_scene\n",
    "    )\n",
    "\n",
    "    for band_index in range(0, target_band_count, bands_per_scene):\n",
    "        for orbit in range(all_orbits_bands.shape[0]):\n",
    "            both_bands = all_orbits_bands[\n",
    "                orbit,\n",
    "                band_index : band_index + bands_per_scene,\n",
    "            ]\n",
    "            print(both_bands.min(), both_bands.max())\n",
    "            # print(both_bands.shape)\n",
    "            # if 0s in either bands, set to 0\n",
    "            data_mask = np.all(both_bands != 0, axis=0)\n",
    "\n",
    "            # expand first dimension to match target array\n",
    "            data_mask = np.expand_dims(data_mask, axis=0)\n",
    "            # suplicate first dimension to match target array\n",
    "            data_mask = np.repeat(data_mask, 2, axis=0)\n",
    "\n",
    "            out_array[band_index : band_index + bands_per_scene][\n",
    "                data_mask\n",
    "            ] += both_bands[data_mask]\n",
    "\n",
    "            tracking_array[band_index : band_index + bands_per_scene] += data_mask\n",
    "            pbar.update(1)\n",
    "    # if tracking_array has 0s, set to 1 to avoid divide by zero\n",
    "    tracking_array[tracking_array == 0] += 1\n",
    "    print(tracking_array.min(), tracking_array.max())\n",
    "    out_array = (out_array / tracking_array.astype(np.float32)).astype(np.uint16)\n",
    "    pbar.close()\n",
    "    return out_array"
   ]
  },
  {
   "cell_type": "code",
   "execution_count": null,
   "metadata": {},
   "outputs": [],
   "source": [
    "pbar = tqdm()\n",
    "r = combine_orbits(array, 12, pbar)"
   ]
  },
  {
   "cell_type": "code",
   "execution_count": null,
   "metadata": {},
   "outputs": [],
   "source": [
    "r.min(), r.max()"
   ]
  },
  {
   "cell_type": "code",
   "execution_count": null,
   "metadata": {},
   "outputs": [],
   "source": [
    "from helpers.inference import run_inference\n",
    "\n",
    "model_path = Path(\"models/regnety_002_v1.31_model.pkl\")"
   ]
  },
  {
   "cell_type": "code",
   "execution_count": null,
   "metadata": {},
   "outputs": [],
   "source": [
    "run_inference(\n",
    "    model_path,\n",
    "    \"pppp.tif\",\n",
    "    r,\n",
    "    rio.open(t).profile,\n",
    "    pbar=pbar,\n",
    ")"
   ]
  },
  {
   "cell_type": "code",
   "execution_count": null,
   "metadata": {},
   "outputs": [],
   "source": []
  },
  {
   "cell_type": "code",
   "execution_count": null,
   "metadata": {},
   "outputs": [],
   "source": []
  },
  {
   "cell_type": "code",
   "execution_count": null,
   "metadata": {},
   "outputs": [],
   "source": [
    "index = 10\n",
    "plt.imshow(r[index], vmin=0, vmax=2000)"
   ]
  },
  {
   "cell_type": "code",
   "execution_count": null,
   "metadata": {},
   "outputs": [],
   "source": [
    "profile = rio.open(t).profile\n",
    "profile.update(dtype=np.uint16, count=12)\n",
    "\n",
    "with rio.open(\"test.tif\", \"w\", **profile) as dst:\n",
    "    dst.write(r.astype(np.uint16))"
   ]
  },
  {
   "cell_type": "code",
   "execution_count": null,
   "metadata": {},
   "outputs": [],
   "source": [
    "def combine_orbits_old(\n",
    "    all_orbits_bands: np.ndarray,\n",
    "    all_orbits_scls: np.ndarray,\n",
    "    target_band_count: int,\n",
    "    pbar: tqdm,\n",
    ") -> np.ndarray:\n",
    "    \"\"\"\n",
    "    Combines multiple orbits of bands into a single array.\n",
    "    input shape is orbit, band, x, y such as 3, 12, 10980, 10980\n",
    "    \"\"\"\n",
    "    # reorder to band, orbit, x, y\n",
    "    all_orbits_bands = np.moveaxis(all_orbits_bands, 0, 1)\n",
    "\n",
    "    # make output array\n",
    "    out_shape = (target_band_count, *all_orbits_bands.shape[2:])\n",
    "    out_array = np.zeros(out_shape, dtype=np.uint16)\n",
    "    # setup progress bar\n",
    "    pbar.reset()\n",
    "    pbar.set_description(f\"Combining\")\n",
    "    pbar.total = len(all_orbits_bands)\n",
    "    # loop through bands\n",
    "    for index, multi_orbit_bands in enumerate(all_orbits_bands):\n",
    "        # make empty array for one band\n",
    "        target_array = np.zeros(multi_orbit_bands.shape[1:], dtype=np.float32)\n",
    "        # make array to track how many values are in each pixel\n",
    "        tracking_array = np.zeros(multi_orbit_bands.shape[1:], dtype=np.float32)\n",
    "        for band in multi_orbit_bands:\n",
    "            mask = band != 0\n",
    "            target_array[mask] += band[mask].astype(np.float32)\n",
    "            tracking_array[mask] += 1\n",
    "        # add 1 to tracking array where its currently 0 to avoid divide by zero\n",
    "        tracking_array[tracking_array == 0] += 1\n",
    "        out_array[index] = (target_array / tracking_array).astype(np.uint16)\n",
    "        pbar.update(1)\n",
    "\n",
    "    return out_array"
   ]
  },
  {
   "cell_type": "code",
   "execution_count": null,
   "metadata": {},
   "outputs": [],
   "source": [
    "pbar = tqdm()\n",
    "p = combine_orbits_old(array, scl, 12, pbar)"
   ]
  },
  {
   "cell_type": "code",
   "execution_count": null,
   "metadata": {},
   "outputs": [],
   "source": [
    "index = 10\n",
    "plt.imshow(r[index], vmin=0, vmax=2000)"
   ]
  },
  {
   "cell_type": "code",
   "execution_count": null,
   "metadata": {},
   "outputs": [],
   "source": [
    "plt.imshow(p[index], vmin=0, vmax=2000)"
   ]
  },
  {
   "cell_type": "code",
   "execution_count": null,
   "metadata": {},
   "outputs": [],
   "source": [
    "plt.imshow(p[index] - r[index])"
   ]
  },
  {
   "cell_type": "code",
   "execution_count": null,
   "metadata": {},
   "outputs": [],
   "source": [
    "r.shape"
   ]
  },
  {
   "cell_type": "code",
   "execution_count": null,
   "metadata": {},
   "outputs": [],
   "source": []
  }
 ],
 "metadata": {
  "kernelspec": {
   "display_name": "c2m",
   "language": "python",
   "name": "python3"
  },
  "language_info": {
   "codemirror_mode": {
    "name": "ipython",
    "version": 3
   },
   "file_extension": ".py",
   "mimetype": "text/x-python",
   "name": "python",
   "nbconvert_exporter": "python",
   "pygments_lexer": "ipython3",
   "version": "3.8.16"
  }
 },
 "nbformat": 4,
 "nbformat_minor": 2
}
