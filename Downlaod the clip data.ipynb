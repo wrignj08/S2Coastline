{
 "cells": [
  {
   "cell_type": "code",
   "execution_count": null,
   "metadata": {},
   "outputs": [],
   "source": [
    "# from pystac.extensions.eo import EOExtension as eo\n",
    "import pystac_client\n",
    "import planetary_computer\n",
    "import geopandas as gpd\n",
    "import rasterio as rio\n",
    "from pathlib import Path\n",
    "from shapely.geometry import Point\n",
    "import pyproj\n",
    "from tqdm.auto import tqdm\n",
    "from rasterio import Affine\n",
    "from shapely.geometry import box\n",
    "from shapely.ops import transform\n",
    "from pyproj import Transformer\n",
    "from multiprocess import Pool\n",
    "import numpy as np\n",
    "from math import sqrt\n",
    "import time"
   ]
  },
  {
   "cell_type": "code",
   "execution_count": null,
   "metadata": {},
   "outputs": [],
   "source": [
    "catalog = pystac_client.Client.open(\n",
    "    \"https://planetarycomputer.microsoft.com/api/stac/v1\",\n",
    "    modifier=planetary_computer.sign_inplace,\n",
    ")"
   ]
  },
  {
   "cell_type": "code",
   "execution_count": null,
   "metadata": {},
   "outputs": [],
   "source": [
    "vector_points_path = Path(\n",
    "    \"/Users/Nick/Library/Mobile Documents/com~apple~CloudDocs/QGIS/Coastline training data v2/OSM/OSM training data.gpkg\"\n",
    ")\n",
    "vector_points = gpd.read_file(vector_points_path)"
   ]
  },
  {
   "cell_type": "code",
   "execution_count": null,
   "metadata": {},
   "outputs": [],
   "source": [
    "# OSM_ocean_path = Path(\n",
    "#     \"/Users/Nick/Library/Mobile Documents/com~apple~CloudDocs/QGIS/Coastline training data/Aus coastline polygon.gpkg\"\n",
    "# )\n",
    "# OSM_coastline_path = Path(\n",
    "#     \"/Users/Nick/Library/Mobile Documents/com~apple~CloudDocs/QGIS/Coastline training data/Aus coastline.gpkg\"\n",
    "# )\n",
    "# OSM_ocean_path = Path(\n",
    "#     \"/Users/Nick/Library/Mobile Documents/com~apple~CloudDocs/QGIS/Coastline training data/NZ Polygons.gpkg\"\n",
    "# )\n",
    "# OSM_coastline_path = Path(\n",
    "#     \"/Users/Nick/Library/Mobile Documents/com~apple~CloudDocs/QGIS/Coastline training data/NZ Lines.gpkg\"\n",
    "# )\n",
    "# prefix = \"NZ_80\"\n",
    "\n",
    "OSM_ocean_path = Path(\n",
    "    \"/Users/Nick/Library/Mobile Documents/com~apple~CloudDocs/QGIS/Coastline training data/OSM polygons.gpkg\"\n",
    ")\n",
    "OSM_coastline_path = Path(\n",
    "    \"/Users/Nick/Library/Mobile Documents/com~apple~CloudDocs/QGIS/Coastline training data/OSM lines.gpkg\"\n",
    ")\n",
    "prefix = \"OSM_80\""
   ]
  },
  {
   "cell_type": "code",
   "execution_count": null,
   "metadata": {},
   "outputs": [],
   "source": [
    "images_path = Path.cwd() / \"training data\" / \"images_2_3_4_8_V3\"\n",
    "labels_path = Path.cwd() / \"training data\" / \"labels_2_3_4_8_V3\"\n",
    "labels_path.mkdir(exist_ok=True, parents=True)\n",
    "images_path.mkdir(exist_ok=True, parents=True)"
   ]
  },
  {
   "cell_type": "code",
   "execution_count": null,
   "metadata": {},
   "outputs": [],
   "source": [
    "bands = [\"B02\", \"B03\", \"B04\", \"B08\"]\n",
    "time_steps = 6"
   ]
  },
  {
   "cell_type": "code",
   "execution_count": null,
   "metadata": {},
   "outputs": [],
   "source": [
    "def find_prods(point, time_of_interest=\"2022-01-01/2023-01-01\"):\n",
    "    search = catalog.search(\n",
    "        collections=[\"sentinel-2-l2a\"],\n",
    "        intersects=point,\n",
    "        datetime=time_of_interest,\n",
    "        query={\"eo:cloud_cover\": {\"lt\": 80}},\n",
    "    )\n",
    "    items = search.item_collection()\n",
    "    return items"
   ]
  },
  {
   "cell_type": "code",
   "execution_count": null,
   "metadata": {},
   "outputs": [],
   "source": [
    "def wgs_point_to_local_box(product, wgs_point, vector_data_crs_number):\n",
    "    local_crs_number = product.properties[\"proj:epsg\"]\n",
    "    source_crs = pyproj.CRS(f\"EPSG:{vector_data_crs_number}\")\n",
    "    target_crs = pyproj.CRS(f\"EPSG:{local_crs_number}\")\n",
    "    transformer = pyproj.Transformer.from_crs(source_crs, target_crs, always_xy=True)\n",
    "    x, y = wgs_point.x, wgs_point.y\n",
    "    x_transformed, y_transformed = transformer.transform(x, y)\n",
    "    point_utm = Point(x_transformed, y_transformed)\n",
    "    point_buffer = point_utm.buffer(2560 / 2)\n",
    "    return point_buffer.bounds"
   ]
  },
  {
   "cell_type": "code",
   "execution_count": null,
   "metadata": {},
   "outputs": [],
   "source": [
    "# get epsg code\n",
    "vector_data_crs_number = vector_points.crs.to_epsg()\n",
    "vector_data_crs_number"
   ]
  },
  {
   "cell_type": "code",
   "execution_count": null,
   "metadata": {},
   "outputs": [],
   "source": [
    "total_bands = time_steps * len(bands)\n",
    "total_bands"
   ]
  },
  {
   "cell_type": "code",
   "execution_count": null,
   "metadata": {},
   "outputs": [],
   "source": [
    "# for row in tqdm(vector_points.iterrows(), total=len(vector_points)):\n",
    "def downlaod_image(row):\n",
    "    try:\n",
    "        wgs_point = row[1].geometry\n",
    "\n",
    "        if wgs_point is None:\n",
    "            return\n",
    "\n",
    "        export_name = f\"{row[0]}_{prefix}.tif\"\n",
    "        export_path = images_path / export_name\n",
    "\n",
    "        if export_path.stem in skip_list:\n",
    "            return\n",
    "\n",
    "        if export_path.exists():\n",
    "            return\n",
    "\n",
    "        search_point = {\"type\": \"Point\", \"coordinates\": [wgs_point.x, wgs_point.y]}\n",
    "\n",
    "        products = find_prods(search_point)\n",
    "        arrays = []\n",
    "        # print(products)\n",
    "        for product in products:\n",
    "            # print(product.id)\n",
    "            b_box = wgs_point_to_local_box(product, wgs_point, vector_data_crs_number)\n",
    "            band_arrays = []\n",
    "            skip = False\n",
    "            for band in bands:\n",
    "                if skip:\n",
    "                    continue\n",
    "                # time.sleep(2)\n",
    "                with rio.open(product.assets[band].href) as src:\n",
    "                    window = rio.windows.from_bounds(*b_box, src.transform)\n",
    "\n",
    "                    array = src.read(1, window=window)\n",
    "                    if array.shape != (256, 256):\n",
    "                        print(f\"Array shape is {array.shape} for {export_name}\")\n",
    "                        skip = True\n",
    "                        continue\n",
    "                    transform = rio.windows.transform(window, transform=src.transform)\n",
    "                    profile = src.profile.copy()\n",
    "                    if band == bands[0]:\n",
    "                        # print(np.count_nonzero(array == 0))\n",
    "                        if np.count_nonzero(array == 0) > 100:\n",
    "                            skip = True\n",
    "                            continue\n",
    "\n",
    "                    band_arrays.append(array)\n",
    "\n",
    "            for band_array in band_arrays:\n",
    "                arrays.append(band_array)\n",
    "\n",
    "            if len(arrays) == total_bands:\n",
    "                break\n",
    "\n",
    "        if len(arrays) != total_bands:\n",
    "            print(f\"Could not find 3 images for {export_name}\")\n",
    "            time.sleep(2)\n",
    "            return\n",
    "        profile.update(\n",
    "            {\n",
    "                \"height\": array.shape[0],\n",
    "                \"width\": array.shape[1],\n",
    "                \"transform\": transform,\n",
    "                \"count\": total_bands,\n",
    "            }\n",
    "        )\n",
    "        with rio.open(export_path, \"w\", **profile) as dst:\n",
    "            dst.write(np.array(arrays))\n",
    "    except Exception as e:\n",
    "        print(e)\n",
    "        print(f\"Failed to download {export_name}\")\n",
    "        time.sleep(2)\n",
    "        return"
   ]
  },
  {
   "cell_type": "code",
   "execution_count": null,
   "metadata": {},
   "outputs": [],
   "source": [
    "vector_points = vector_points.iloc[::-1]"
   ]
  },
  {
   "cell_type": "code",
   "execution_count": null,
   "metadata": {},
   "outputs": [],
   "source": [
    "skip_list = [\n",
    "    \"614_OSM_80\",\n",
    "    \"611_OSM_80\",\n",
    "    \"579_OSM_80\",\n",
    "    \"577_OSM_80\",\n",
    "    \"554_OSM_80\",\n",
    "    \"550_OSM_80\",\n",
    "    \"536_OSM_80\",\n",
    "    \"533_OSM_80\",\n",
    "    \"531_OSM_80\",\n",
    "    \"526_OSM_80\",\n",
    "    \"523_OSM_80\",\n",
    "    \"509_OSM_80\",\n",
    "    \"490_OSM_80\",\n",
    "    \"478_OSM_80\",\n",
    "    \"466_OSM_80\",\n",
    "    \"465_OSM_80\",\n",
    "    \"462_OSM_80\",\n",
    "]"
   ]
  },
  {
   "cell_type": "code",
   "execution_count": null,
   "metadata": {},
   "outputs": [],
   "source": [
    "for i in tqdm(vector_points.iterrows(), total=len(vector_points)):\n",
    "    if i[0] not in skip:\n",
    "        downlaod_image(i)"
   ]
  },
  {
   "cell_type": "code",
   "execution_count": null,
   "metadata": {},
   "outputs": [],
   "source": [
    "# for i in tqdm(vector_points.iterrows(), total=len(vector_points)):\n",
    "#     if i[0] not in skip:\n",
    "#         downlaod_image(i)"
   ]
  },
  {
   "cell_type": "code",
   "execution_count": null,
   "metadata": {},
   "outputs": [],
   "source": [
    "# with Pool(1) as p:\n",
    "#     list(tqdm(p.imap(downlaod_image, vector_points.iterrows()), total=len(vector_points)))"
   ]
  },
  {
   "cell_type": "code",
   "execution_count": null,
   "metadata": {},
   "outputs": [],
   "source": [
    "def rasterise(args):\n",
    "    if args is None:\n",
    "        return\n",
    "    (\n",
    "        label_export_path,\n",
    "        coastline_lines_clipped,\n",
    "        clipped_gdf,\n",
    "        profile,\n",
    "        array_transform,\n",
    "        max_dist,\n",
    "    ) = args\n",
    "    if label_export_path.exists():\n",
    "        return\n",
    "    clipped_gdf[\"geometry\"] = clipped_gdf[\"geometry\"].buffer(0)\n",
    "    array = np.zeros((profile[\"height\"], profile[\"width\"]), dtype=np.float32)\n",
    "    for row in range(profile[\"height\"]):\n",
    "        for col in range(profile[\"width\"]):\n",
    "            x, y = array_transform * (col + 0.5, row + 0.5)\n",
    "            point = Point(x, y)\n",
    "\n",
    "            if len(coastline_lines_clipped) == 0:\n",
    "                min_distance = max_dist\n",
    "\n",
    "            else:\n",
    "                min_distance = min(\n",
    "                    geom.distance(point) for geom in coastline_lines_clipped[\"geometry\"]\n",
    "                )\n",
    "\n",
    "            if min_distance > max_dist:\n",
    "                min_distance = max_dist\n",
    "            min_distance = sqrt(min_distance)\n",
    "            if clipped_gdf.intersects(point).any():\n",
    "                array[row, col] = -min_distance\n",
    "            else:\n",
    "                array[row, col] = min_distance\n",
    "\n",
    "    profile.update({\"count\": 1, \"dtype\": \"float32\", \"compress\": \"lzw\"})\n",
    "\n",
    "    with rio.open(label_export_path, \"w\", **profile) as dst:\n",
    "        dst.write(array, 1)"
   ]
  },
  {
   "cell_type": "code",
   "execution_count": null,
   "metadata": {},
   "outputs": [],
   "source": [
    "def make_label(image, coastline_lines, ocean_polygons, max_dist=50):\n",
    "    try:\n",
    "        label_export_path = labels_path / image.name\n",
    "\n",
    "        if label_export_path.exists():\n",
    "            return\n",
    "\n",
    "        with rio.open(image) as src:\n",
    "            pixel_size = src.transform[0]\n",
    "            extent = src.bounds\n",
    "            raster_poly = box(*extent)\n",
    "            raster_crs = src.crs\n",
    "            profile = src.profile.copy()\n",
    "\n",
    "        transformer = Transformer.from_crs(\n",
    "            raster_crs, ocean_polygons.crs, always_xy=True\n",
    "        )\n",
    "        reprojected_polygon = transform(transformer.transform, raster_poly)\n",
    "\n",
    "        clipped_gdf = (\n",
    "            gpd.clip(ocean_polygons, reprojected_polygon).dissolve().to_crs(raster_crs)\n",
    "        )\n",
    "\n",
    "        coastline_lines_clipped = gpd.clip(coastline_lines, reprojected_polygon).to_crs(\n",
    "            raster_crs\n",
    "        )\n",
    "\n",
    "        minx, miny, maxx, maxy = extent\n",
    "        array_transform = Affine.translation(minx, maxy) * Affine.scale(\n",
    "            pixel_size, -pixel_size\n",
    "        )\n",
    "        args = (\n",
    "            label_export_path,\n",
    "            coastline_lines_clipped,\n",
    "            clipped_gdf,\n",
    "            profile,\n",
    "            array_transform,\n",
    "            max_dist,\n",
    "        )\n",
    "        #\n",
    "        return args\n",
    "    except Exception as e:\n",
    "        print(e)\n",
    "        print(f\"Failed to make label for {image.name}\")\n",
    "        return"
   ]
  },
  {
   "cell_type": "code",
   "execution_count": null,
   "metadata": {},
   "outputs": [],
   "source": [
    "images = list(images_path.glob(f\"*{prefix}.tif\"))\n",
    "len(images)"
   ]
  },
  {
   "cell_type": "code",
   "execution_count": null,
   "metadata": {},
   "outputs": [],
   "source": [
    "ocean_polygons = gpd.read_file(OSM_ocean_path)"
   ]
  },
  {
   "cell_type": "code",
   "execution_count": null,
   "metadata": {},
   "outputs": [],
   "source": [
    "coastline = gpd.read_file(OSM_coastline_path)"
   ]
  },
  {
   "cell_type": "code",
   "execution_count": null,
   "metadata": {},
   "outputs": [],
   "source": [
    "args_list = []\n",
    "for image in tqdm(images):\n",
    "    args_list.append(\n",
    "        make_label(image, coastline_lines=coastline, ocean_polygons=ocean_polygons)\n",
    "    )"
   ]
  },
  {
   "cell_type": "code",
   "execution_count": null,
   "metadata": {},
   "outputs": [],
   "source": [
    "with Pool() as p:\n",
    "    list(tqdm(p.imap(rasterise, args_list), total=len(args_list)))"
   ]
  },
  {
   "cell_type": "code",
   "execution_count": null,
   "metadata": {},
   "outputs": [],
   "source": [
    "t = Path(\"/Users/Nick/Desktop/S2Coastline DL/training data/images_2_3_4_8\")\n",
    "files = list(t.glob(\"*Aus.tif\"))\n",
    "len(files)"
   ]
  },
  {
   "cell_type": "code",
   "execution_count": null,
   "metadata": {},
   "outputs": [],
   "source": []
  }
 ],
 "metadata": {
  "kernelspec": {
   "display_name": "gis",
   "language": "python",
   "name": "python3"
  },
  "language_info": {
   "codemirror_mode": {
    "name": "ipython",
    "version": 3
   },
   "file_extension": ".py",
   "mimetype": "text/x-python",
   "name": "python",
   "nbconvert_exporter": "python",
   "pygments_lexer": "ipython3",
   "version": "3.11.4"
  }
 },
 "nbformat": 4,
 "nbformat_minor": 2
}
