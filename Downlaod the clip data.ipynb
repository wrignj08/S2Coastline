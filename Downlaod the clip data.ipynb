{
 "cells": [
  {
   "cell_type": "code",
   "execution_count": 1,
   "metadata": {},
   "outputs": [
    {
     "name": "stderr",
     "output_type": "stream",
     "text": [
      "/var/folders/kq/rs7d6smx5kv8n5mp22x8kgjr0000gq/T/ipykernel_44469/3254835504.py:4: DeprecationWarning: Shapely 2.0 is installed, but because PyGEOS is also installed, GeoPandas still uses PyGEOS by default. However, starting with version 0.14, the default will switch to Shapely. To force to use Shapely 2.0 now, you can either uninstall PyGEOS or set the environment variable USE_PYGEOS=0. You can do this before starting the Python process, or in your code before importing geopandas:\n",
      "\n",
      "import os\n",
      "os.environ['USE_PYGEOS'] = '0'\n",
      "import geopandas\n",
      "\n",
      "In the next release, GeoPandas will switch to using Shapely by default, even if PyGEOS is installed. If you only have PyGEOS installed to get speed-ups, this switch should be smooth. However, if you are using PyGEOS directly (calling PyGEOS functions on geometries from GeoPandas), this will then stop working and you are encouraged to migrate from PyGEOS to Shapely 2.0 (https://shapely.readthedocs.io/en/latest/migration_pygeos.html).\n",
      "  import geopandas as gpd\n"
     ]
    }
   ],
   "source": [
    "import pystac_client\n",
    "import planetary_computer\n",
    "import geopandas as gpd\n",
    "import rasterio as rio\n",
    "from pathlib import Path\n",
    "from shapely.geometry import Point\n",
    "import pyproj\n",
    "from tqdm.auto import tqdm\n",
    "from rasterio import Affine\n",
    "from shapely.geometry import box\n",
    "from shapely.ops import transform\n",
    "from pyproj import Transformer\n",
    "from multiprocess import Pool\n",
    "import numpy as np\n",
    "from math import sqrt\n",
    "import time\n",
    "from concurrent.futures import ThreadPoolExecutor\n",
    "from tqdm import tqdm"
   ]
  },
  {
   "cell_type": "code",
   "execution_count": 34,
   "metadata": {},
   "outputs": [],
   "source": [
    "# source = \"OSM\"\n",
    "# source = \"Aus\"\n",
    "# source = \"NZ\"\n",
    "source = \"Validation\""
   ]
  },
  {
   "cell_type": "code",
   "execution_count": 35,
   "metadata": {},
   "outputs": [
    {
     "data": {
      "text/plain": [
       "True"
      ]
     },
     "execution_count": 35,
     "metadata": {},
     "output_type": "execute_result"
    }
   ],
   "source": [
    "data_dir = Path(\n",
    "    \"/Users/Nick/Library/Mobile Documents/com~apple~CloudDocs/QGIS/Coastline training data v2/\"\n",
    ")\n",
    "data_dir.exists()"
   ]
  },
  {
   "cell_type": "code",
   "execution_count": 36,
   "metadata": {},
   "outputs": [],
   "source": [
    "catalog = pystac_client.Client.open(\n",
    "    \"https://planetarycomputer.microsoft.com/api/stac/v1\",\n",
    "    modifier=planetary_computer.sign_inplace,\n",
    ")"
   ]
  },
  {
   "cell_type": "code",
   "execution_count": 37,
   "metadata": {},
   "outputs": [
    {
     "name": "stdout",
     "output_type": "stream",
     "text": [
      "True\n"
     ]
    }
   ],
   "source": [
    "vector_points_path = data_dir / f\"{source}/{source} training data.gpkg\"\n",
    "print(vector_points_path.exists())\n",
    "vector_points = gpd.read_file(vector_points_path)"
   ]
  },
  {
   "cell_type": "code",
   "execution_count": 38,
   "metadata": {},
   "outputs": [
    {
     "name": "stdout",
     "output_type": "stream",
     "text": [
      "True\n",
      "True\n"
     ]
    }
   ],
   "source": [
    "ocean_path = data_dir / f\"{source}/{source} polygons.gpkg\"\n",
    "print(ocean_path.exists())\n",
    "coastline_path = data_dir / f\"{source}/{source} lines.gpkg\"\n",
    "print(coastline_path.exists())\n",
    "prefix = f\"{source}_80\""
   ]
  },
  {
   "cell_type": "code",
   "execution_count": 39,
   "metadata": {},
   "outputs": [],
   "source": [
    "images_path = Path.cwd() / \"training data\" / \"images_2_3_4_8_V3\"\n",
    "labels_path = Path.cwd() / \"training data\" / \"labels_2_3_4_8_V3\"\n",
    "labels_path.mkdir(exist_ok=True, parents=True)\n",
    "images_path.mkdir(exist_ok=True, parents=True)"
   ]
  },
  {
   "cell_type": "code",
   "execution_count": 40,
   "metadata": {},
   "outputs": [],
   "source": [
    "bands = [\"B02\", \"B03\", \"B04\", \"B08\"]\n",
    "time_steps = 6"
   ]
  },
  {
   "cell_type": "code",
   "execution_count": 41,
   "metadata": {},
   "outputs": [],
   "source": [
    "def find_prods(point, time_of_interest=\"2022-01-01/2023-01-01\"):\n",
    "    search = catalog.search(\n",
    "        collections=[\"sentinel-2-l2a\"],\n",
    "        intersects=point,\n",
    "        datetime=time_of_interest,\n",
    "        query={\"eo:cloud_cover\": {\"lt\": 80}},\n",
    "    )\n",
    "    items = search.item_collection()\n",
    "    return items"
   ]
  },
  {
   "cell_type": "code",
   "execution_count": 42,
   "metadata": {},
   "outputs": [],
   "source": [
    "def wgs_point_to_local_box(product, wgs_point, vector_data_crs_number):\n",
    "    local_crs_number = product.properties[\"proj:epsg\"]\n",
    "    source_crs = pyproj.CRS(f\"EPSG:{vector_data_crs_number}\")\n",
    "    target_crs = pyproj.CRS(f\"EPSG:{local_crs_number}\")\n",
    "    transformer = pyproj.Transformer.from_crs(source_crs, target_crs, always_xy=True)\n",
    "    x, y = wgs_point.x, wgs_point.y\n",
    "    x_transformed, y_transformed = transformer.transform(x, y)\n",
    "    point_utm = Point(x_transformed, y_transformed)\n",
    "    point_buffer = point_utm.buffer(2560 / 2)\n",
    "    return point_buffer.bounds"
   ]
  },
  {
   "cell_type": "code",
   "execution_count": 46,
   "metadata": {},
   "outputs": [
    {
     "data": {
      "text/plain": [
       "4326"
      ]
     },
     "execution_count": 46,
     "metadata": {},
     "output_type": "execute_result"
    }
   ],
   "source": [
    "# get epsg code\n",
    "vector_data_crs_number = vector_points.crs.to_epsg()\n",
    "vector_data_crs_number"
   ]
  },
  {
   "cell_type": "code",
   "execution_count": 47,
   "metadata": {},
   "outputs": [
    {
     "data": {
      "text/plain": [
       "24"
      ]
     },
     "execution_count": 47,
     "metadata": {},
     "output_type": "execute_result"
    }
   ],
   "source": [
    "total_bands = time_steps * len(bands)\n",
    "total_bands"
   ]
  },
  {
   "cell_type": "code",
   "execution_count": 48,
   "metadata": {},
   "outputs": [],
   "source": [
    "# for row in tqdm(vector_points.iterrows(), total=len(vector_points)):\n",
    "def downlaod_image(row):\n",
    "    try:\n",
    "        wgs_point = row[1].geometry\n",
    "\n",
    "        if wgs_point is None:\n",
    "            return\n",
    "\n",
    "        export_name = f\"{row[0]}_{prefix}.tif\"\n",
    "        export_path = images_path / export_name\n",
    "\n",
    "        if export_path.stem in skip_list:\n",
    "            return\n",
    "\n",
    "        if export_path.exists():\n",
    "            return\n",
    "\n",
    "        search_point = {\"type\": \"Point\", \"coordinates\": [wgs_point.x, wgs_point.y]}\n",
    "\n",
    "        products = find_prods(search_point)\n",
    "        arrays = []\n",
    "        # print(products)\n",
    "        for product in products:\n",
    "            # print(product.id)\n",
    "            b_box = wgs_point_to_local_box(product, wgs_point, vector_data_crs_number)\n",
    "            band_arrays = []\n",
    "            skip = False\n",
    "            for band in bands:\n",
    "                if skip:\n",
    "                    continue\n",
    "                # time.sleep(2)\n",
    "                with rio.open(product.assets[band].href) as src:\n",
    "                    window = rio.windows.from_bounds(*b_box, src.transform)\n",
    "\n",
    "                    array = src.read(1, window=window)\n",
    "                    if array.shape != (256, 256):\n",
    "                        print(f\"Array shape is {array.shape} for {export_name}\")\n",
    "                        skip = True\n",
    "                        continue\n",
    "                    transform = rio.windows.transform(window, transform=src.transform)\n",
    "                    profile = src.profile.copy()\n",
    "                    if band == bands[0]:\n",
    "                        # print(np.count_nonzero(array == 0))\n",
    "                        if np.count_nonzero(array == 0) > 100:\n",
    "                            skip = True\n",
    "                            continue\n",
    "\n",
    "                    band_arrays.append(array)\n",
    "\n",
    "            for band_array in band_arrays:\n",
    "                arrays.append(band_array)\n",
    "\n",
    "            if len(arrays) == total_bands:\n",
    "                break\n",
    "\n",
    "        if len(arrays) != total_bands:\n",
    "            print(f\"Could not find 3 images for {export_name}\")\n",
    "            time.sleep(2)\n",
    "            return\n",
    "        profile.update(\n",
    "            {\n",
    "                \"height\": array.shape[0],\n",
    "                \"width\": array.shape[1],\n",
    "                \"transform\": transform,\n",
    "                \"count\": total_bands,\n",
    "            }\n",
    "        )\n",
    "        with rio.open(export_path, \"w\", **profile) as dst:\n",
    "            dst.write(np.array(arrays))\n",
    "    except Exception as e:\n",
    "        print(e)\n",
    "        print(f\"Failed to download {export_name}\")\n",
    "        time.sleep(2)\n",
    "        return"
   ]
  },
  {
   "cell_type": "code",
   "execution_count": 49,
   "metadata": {},
   "outputs": [],
   "source": [
    "vector_points = vector_points.iloc[::-1]"
   ]
  },
  {
   "cell_type": "code",
   "execution_count": 50,
   "metadata": {},
   "outputs": [],
   "source": [
    "skip_list = [\n",
    "    \"614_OSM_80\",\n",
    "    \"611_OSM_80\",\n",
    "    \"579_OSM_80\",\n",
    "    \"577_OSM_80\",\n",
    "    \"554_OSM_80\",\n",
    "    \"550_OSM_80\",\n",
    "    \"536_OSM_80\",\n",
    "    \"533_OSM_80\",\n",
    "    \"531_OSM_80\",\n",
    "    \"526_OSM_80\",\n",
    "    \"523_OSM_80\",\n",
    "    \"509_OSM_80\",\n",
    "    \"490_OSM_80\",\n",
    "    \"478_OSM_80\",\n",
    "    \"466_OSM_80\",\n",
    "    \"465_OSM_80\",\n",
    "    \"462_OSM_80\",\n",
    "    \"797_OSM_80\",\n",
    "    \"798_OSM_80\",\n",
    "    \"791_OSM_80\",\n",
    "    \"777_OSM_80\",\n",
    "    \"775_OSM_80\",\n",
    "    \"758_OSM_80\",\n",
    "    \"716_OSM_80\",\n",
    "    \"706_OSM_80\",\n",
    "    \"691_OSM_80\",\n",
    "    \"325_OSM_80\",\n",
    "    \"355_OSM_80\",\n",
    "    \"913_OSM_80\",\n",
    "    \"856_OSM_80\",\n",
    "    \"841_OSM_80\",\n",
    "    \"919_OSM_80\",\n",
    "    \"978_OSM_80\",\n",
    "    \"995_OSM_80\",\n",
    "]"
   ]
  },
  {
   "cell_type": "code",
   "execution_count": 51,
   "metadata": {},
   "outputs": [
    {
     "name": "stderr",
     "output_type": "stream",
     "text": [
      "  0%|          | 0/101 [00:00<?, ?it/s]"
     ]
    },
    {
     "name": "stderr",
     "output_type": "stream",
     "text": [
      " 23%|██▎       | 23/101 [02:23<05:41,  4.38s/it]"
     ]
    },
    {
     "name": "stdout",
     "output_type": "stream",
     "text": [
      "Array shape is (256, 193) for 73_Validation_80.tif\n"
     ]
    },
    {
     "name": "stderr",
     "output_type": "stream",
     "text": [
      " 25%|██▍       | 25/101 [02:35<06:23,  5.04s/it]"
     ]
    },
    {
     "name": "stdout",
     "output_type": "stream",
     "text": [
      "Array shape is (256, 193) for 73_Validation_80.tif\n"
     ]
    },
    {
     "name": "stderr",
     "output_type": "stream",
     "text": [
      " 27%|██▋       | 27/101 [02:43<05:27,  4.43s/it]"
     ]
    },
    {
     "name": "stdout",
     "output_type": "stream",
     "text": [
      "Array shape is (256, 193) for 73_Validation_80.tif\n",
      "Array shape is (256, 193) for 73_Validation_80.tif\n",
      "Array shape is (256, 193) for 73_Validation_80.tif\n"
     ]
    },
    {
     "name": "stderr",
     "output_type": "stream",
     "text": [
      " 30%|██▉       | 30/101 [03:07<06:36,  5.58s/it]"
     ]
    },
    {
     "name": "stdout",
     "output_type": "stream",
     "text": [
      "Array shape is (168, 256) for 66_Validation_80.tif\n"
     ]
    },
    {
     "name": "stderr",
     "output_type": "stream",
     "text": [
      " 32%|███▏      | 32/101 [03:22<07:16,  6.32s/it]"
     ]
    },
    {
     "name": "stdout",
     "output_type": "stream",
     "text": [
      "Array shape is (168, 256) for 66_Validation_80.tif\n",
      "Array shape is (168, 256) for 66_Validation_80.tif\n",
      "Array shape is (168, 256) for 66_Validation_80.tif\n"
     ]
    },
    {
     "name": "stderr",
     "output_type": "stream",
     "text": [
      "100%|██████████| 101/101 [10:11<00:00,  6.06s/it]\n"
     ]
    }
   ],
   "source": [
    "def worker(i):\n",
    "    if i[0] not in skip_list:\n",
    "        downlaod_image(i)\n",
    "\n",
    "\n",
    "# Number of threads you want to run in parallel\n",
    "num_threads = 4\n",
    "\n",
    "with ThreadPoolExecutor(max_workers=num_threads) as executor:\n",
    "    list(tqdm(executor.map(worker, vector_points.iterrows()), total=len(vector_points)))"
   ]
  },
  {
   "cell_type": "code",
   "execution_count": 52,
   "metadata": {},
   "outputs": [],
   "source": [
    "def rasterise(args):\n",
    "    if args is None:\n",
    "        return\n",
    "    (\n",
    "        label_export_path,\n",
    "        coastline_lines_clipped,\n",
    "        clipped_gdf,\n",
    "        profile,\n",
    "        array_transform,\n",
    "        max_dist,\n",
    "    ) = args\n",
    "    if label_export_path.exists():\n",
    "        return\n",
    "    clipped_gdf[\"geometry\"] = clipped_gdf[\"geometry\"].buffer(0)\n",
    "    array = np.zeros((profile[\"height\"], profile[\"width\"]), dtype=np.float32)\n",
    "    for row in range(profile[\"height\"]):\n",
    "        for col in range(profile[\"width\"]):\n",
    "            x, y = array_transform * (col + 0.5, row + 0.5)\n",
    "            point = Point(x, y)\n",
    "\n",
    "            if len(coastline_lines_clipped) == 0:\n",
    "                min_distance = max_dist\n",
    "\n",
    "            else:\n",
    "                min_distance = min(\n",
    "                    geom.distance(point) for geom in coastline_lines_clipped[\"geometry\"]\n",
    "                )\n",
    "\n",
    "            if min_distance > max_dist:\n",
    "                min_distance = max_dist\n",
    "            min_distance = sqrt(min_distance)\n",
    "            if clipped_gdf.intersects(point).any():\n",
    "                array[row, col] = -min_distance\n",
    "            else:\n",
    "                array[row, col] = min_distance\n",
    "\n",
    "    profile.update({\"count\": 1, \"dtype\": \"float32\", \"compress\": \"lzw\"})\n",
    "\n",
    "    with rio.open(label_export_path, \"w\", **profile) as dst:\n",
    "        dst.write(array, 1)"
   ]
  },
  {
   "cell_type": "code",
   "execution_count": 53,
   "metadata": {},
   "outputs": [],
   "source": [
    "def make_label(image, coastline_lines, ocean_polygons, max_dist=50):\n",
    "    try:\n",
    "        label_export_path = labels_path / image.name\n",
    "\n",
    "        if label_export_path.exists():\n",
    "            return\n",
    "\n",
    "        with rio.open(image) as src:\n",
    "            pixel_size = src.transform[0]\n",
    "            extent = src.bounds\n",
    "            raster_poly = box(*extent)\n",
    "            raster_crs = src.crs\n",
    "            profile = src.profile.copy()\n",
    "\n",
    "        transformer = Transformer.from_crs(\n",
    "            raster_crs, ocean_polygons.crs, always_xy=True\n",
    "        )\n",
    "        reprojected_polygon = transform(transformer.transform, raster_poly)\n",
    "\n",
    "        clipped_gdf = (\n",
    "            gpd.clip(ocean_polygons, reprojected_polygon).dissolve().to_crs(raster_crs)\n",
    "        )\n",
    "\n",
    "        coastline_lines_clipped = gpd.clip(coastline_lines, reprojected_polygon).to_crs(\n",
    "            raster_crs\n",
    "        )\n",
    "\n",
    "        minx, miny, maxx, maxy = extent\n",
    "        array_transform = Affine.translation(minx, maxy) * Affine.scale(\n",
    "            pixel_size, -pixel_size\n",
    "        )\n",
    "        args = (\n",
    "            label_export_path,\n",
    "            coastline_lines_clipped,\n",
    "            clipped_gdf,\n",
    "            profile,\n",
    "            array_transform,\n",
    "            max_dist,\n",
    "        )\n",
    "        #\n",
    "        return args\n",
    "    except Exception as e:\n",
    "        print(e)\n",
    "        print(f\"Failed to make label for {image.name}\")\n",
    "        return"
   ]
  },
  {
   "cell_type": "code",
   "execution_count": 54,
   "metadata": {},
   "outputs": [
    {
     "data": {
      "text/plain": [
       "101"
      ]
     },
     "execution_count": 54,
     "metadata": {},
     "output_type": "execute_result"
    }
   ],
   "source": [
    "images = list(images_path.glob(f\"*{prefix}.tif\"))\n",
    "len(images)"
   ]
  },
  {
   "cell_type": "code",
   "execution_count": 55,
   "metadata": {},
   "outputs": [],
   "source": [
    "ocean_polygons = gpd.read_file(ocean_path)"
   ]
  },
  {
   "cell_type": "code",
   "execution_count": 56,
   "metadata": {},
   "outputs": [],
   "source": [
    "coastline = gpd.read_file(coastline_path)"
   ]
  },
  {
   "cell_type": "code",
   "execution_count": 57,
   "metadata": {},
   "outputs": [
    {
     "name": "stderr",
     "output_type": "stream",
     "text": [
      "100%|██████████| 101/101 [01:27<00:00,  1.15it/s]\n"
     ]
    }
   ],
   "source": [
    "args_list = []\n",
    "for image in tqdm(images):\n",
    "    args_list.append(\n",
    "        make_label(image, coastline_lines=coastline, ocean_polygons=ocean_polygons)\n",
    "    )"
   ]
  },
  {
   "cell_type": "code",
   "execution_count": 59,
   "metadata": {},
   "outputs": [
    {
     "name": "stderr",
     "output_type": "stream",
     "text": [
      "100%|██████████| 101/101 [00:07<00:00, 13.70it/s]\n"
     ]
    }
   ],
   "source": [
    "with Pool() as p:\n",
    "    list(tqdm(p.imap(rasterise, args_list), total=len(args_list)))"
   ]
  },
  {
   "cell_type": "code",
   "execution_count": 60,
   "metadata": {},
   "outputs": [],
   "source": [
    "images = images_path.glob(\"*.tif\")\n",
    "lebels = labels_path.glob(\"*.tif\")"
   ]
  },
  {
   "cell_type": "code",
   "execution_count": 61,
   "metadata": {},
   "outputs": [
    {
     "name": "stderr",
     "output_type": "stream",
     "text": [
      "2018it [00:00, 17814.44it/s]\n"
     ]
    }
   ],
   "source": [
    "remove_list = []\n",
    "for image in tqdm(images):\n",
    "    expected_label = labels_path / image.name\n",
    "    if not expected_label.exists():\n",
    "        print(f\"Missing label for {image.name}\")\n",
    "        remove_list.append(image)"
   ]
  },
  {
   "cell_type": "code",
   "execution_count": null,
   "metadata": {},
   "outputs": [
    {
     "data": {
      "text/plain": [
       "0"
      ]
     },
     "execution_count": 29,
     "metadata": {},
     "output_type": "execute_result"
    }
   ],
   "source": [
    "len(remove_list)"
   ]
  },
  {
   "cell_type": "code",
   "execution_count": null,
   "metadata": {},
   "outputs": [],
   "source": [
    "# for i in remove_list:\n",
    "#     os.remove(i)"
   ]
  },
  {
   "cell_type": "code",
   "execution_count": null,
   "metadata": {},
   "outputs": [],
   "source": []
  }
 ],
 "metadata": {
  "kernelspec": {
   "display_name": "gis",
   "language": "python",
   "name": "python3"
  },
  "language_info": {
   "codemirror_mode": {
    "name": "ipython",
    "version": 3
   },
   "file_extension": ".py",
   "mimetype": "text/x-python",
   "name": "python",
   "nbconvert_exporter": "python",
   "pygments_lexer": "ipython3",
   "version": "3.11.4"
  }
 },
 "nbformat": 4,
 "nbformat_minor": 2
}
