{
 "cells": [
  {
   "cell_type": "code",
   "execution_count": 1,
   "metadata": {},
   "outputs": [],
   "source": [
    "from pathlib import Path\n",
    "\n",
    "import geopandas as gpd\n",
    "from shapely.geometry import LineString\n",
    "import numpy as np\n",
    "from rasterio import features\n",
    "import rasterio as rio\n",
    "from tqdm.auto import tqdm\n",
    "from shapely.geometry import shape, box\n",
    "import pandas as pd\n",
    "from multiprocessing import Pool"
   ]
  },
  {
   "cell_type": "code",
   "execution_count": 2,
   "metadata": {},
   "outputs": [],
   "source": [
    "input_rasters = Path(\"/media/nick/SNEAKERNET/inference_scenes_5\")"
   ]
  },
  {
   "cell_type": "code",
   "execution_count": 3,
   "metadata": {},
   "outputs": [
    {
     "data": {
      "text/plain": [
       "24"
      ]
     },
     "execution_count": 3,
     "metadata": {},
     "output_type": "execute_result"
    }
   ],
   "source": [
    "rasters = list(input_rasters.glob(\"*pred.tif\"))\n",
    "len(rasters)"
   ]
  },
  {
   "cell_type": "code",
   "execution_count": 4,
   "metadata": {},
   "outputs": [
    {
     "data": {
      "text/plain": [
       "PosixPath('/media/nick/SNEAKERNET/inference_scenes_5/55GEQ_2022_2022_pred.gpkg')"
      ]
     },
     "execution_count": 4,
     "metadata": {},
     "output_type": "execute_result"
    }
   ],
   "source": [
    "output_vector = input_rasters / f\"{rasters[0].stem}.gpkg\"\n",
    "output_vector"
   ]
  },
  {
   "cell_type": "code",
   "execution_count": 5,
   "metadata": {},
   "outputs": [],
   "source": [
    "def simplify_geometries(gdf: gpd.GeoDataFrame, tolerance: float) -> gpd.GeoDataFrame:\n",
    "    new_gdf = gdf.copy()\n",
    "    new_gdf[\"geometry\"] = new_gdf[\"geometry\"].simplify(\n",
    "        tolerance, preserve_topology=False\n",
    "    )\n",
    "    return gpd.GeoDataFrame(new_gdf)"
   ]
  },
  {
   "cell_type": "code",
   "execution_count": 6,
   "metadata": {},
   "outputs": [],
   "source": [
    "def extract_polygons(chunk, px_size):\n",
    "    with rio.open(chunk) as src:\n",
    "        local_epsg = src.meta[\"crs\"].to_epsg()\n",
    "        water_array = src.read(1).astype(\"uint8\")\n",
    "        mask = water_array == 1\n",
    "        # data_bouds = box(*src.bounds)\n",
    "\n",
    "    shapes = features.shapes(\n",
    "        water_array, mask=mask, transform=src.transform, connectivity=4\n",
    "    )\n",
    "    water_array = None\n",
    "    geoms = []\n",
    "    values = []\n",
    "    for shapedict, value in shapes:\n",
    "        geoms.append(shape(shapedict))\n",
    "        values.append(value)\n",
    "\n",
    "    water_gdf = gpd.GeoDataFrame({\"geometry\": geoms}, crs=f\"EPSG:{local_epsg}\")\n",
    "    water_gdf = simplify_geometries(water_gdf, px_size)\n",
    "\n",
    "    water_gdf_wgs = water_gdf.to_crs(3857)\n",
    "\n",
    "    water_gdf_wgs[\"geometry\"] = water_gdf_wgs.buffer(0)\n",
    "\n",
    "    return water_gdf_wgs"
   ]
  },
  {
   "cell_type": "code",
   "execution_count": 7,
   "metadata": {},
   "outputs": [],
   "source": [
    "water_polygons = []\n",
    "for i in rasters:\n",
    "    water_polygons.append(extract_polygons(i, px_size=10))"
   ]
  },
  {
   "cell_type": "code",
   "execution_count": 8,
   "metadata": {},
   "outputs": [
    {
     "data": {
      "text/html": [
       "<div>\n",
       "<style scoped>\n",
       "    .dataframe tbody tr th:only-of-type {\n",
       "        vertical-align: middle;\n",
       "    }\n",
       "\n",
       "    .dataframe tbody tr th {\n",
       "        vertical-align: top;\n",
       "    }\n",
       "\n",
       "    .dataframe thead th {\n",
       "        text-align: right;\n",
       "    }\n",
       "</style>\n",
       "<table border=\"1\" class=\"dataframe\">\n",
       "  <thead>\n",
       "    <tr style=\"text-align: right;\">\n",
       "      <th></th>\n",
       "      <th>geometry</th>\n",
       "    </tr>\n",
       "  </thead>\n",
       "  <tbody>\n",
       "    <tr>\n",
       "      <th>0</th>\n",
       "      <td>MULTIPOLYGON (((15963288.922 -5058573.822, 159...</td>\n",
       "    </tr>\n",
       "  </tbody>\n",
       "</table>\n",
       "</div>"
      ],
      "text/plain": [
       "                                            geometry\n",
       "0  MULTIPOLYGON (((15963288.922 -5058573.822, 159..."
      ]
     },
     "execution_count": 8,
     "metadata": {},
     "output_type": "execute_result"
    }
   ],
   "source": [
    "# join all chunks into one gds\n",
    "joined_water_gdf = pd.concat(water_polygons, ignore_index=True)\n",
    "joined_water_gdf_dis = joined_water_gdf.dissolve()\n",
    "joined_water_gdf_dis"
   ]
  },
  {
   "cell_type": "code",
   "execution_count": 9,
   "metadata": {},
   "outputs": [
    {
     "data": {
      "text/html": [
       "<div>\n",
       "<style scoped>\n",
       "    .dataframe tbody tr th:only-of-type {\n",
       "        vertical-align: middle;\n",
       "    }\n",
       "\n",
       "    .dataframe tbody tr th {\n",
       "        vertical-align: top;\n",
       "    }\n",
       "\n",
       "    .dataframe thead th {\n",
       "        text-align: right;\n",
       "    }\n",
       "</style>\n",
       "<table border=\"1\" class=\"dataframe\">\n",
       "  <thead>\n",
       "    <tr style=\"text-align: right;\">\n",
       "      <th></th>\n",
       "      <th>geometry</th>\n",
       "    </tr>\n",
       "  </thead>\n",
       "  <tbody>\n",
       "    <tr>\n",
       "      <th>0</th>\n",
       "      <td>POLYGON ((15963288.922 -5058573.822, 15963315....</td>\n",
       "    </tr>\n",
       "    <tr>\n",
       "      <th>0</th>\n",
       "      <td>POLYGON ((16106308.595 -4965016.231, 16106347....</td>\n",
       "    </tr>\n",
       "    <tr>\n",
       "      <th>0</th>\n",
       "      <td>POLYGON ((16377595.030 -5518427.784, 16370766....</td>\n",
       "    </tr>\n",
       "    <tr>\n",
       "      <th>0</th>\n",
       "      <td>POLYGON ((16068021.311 -4934795.064, 16068009....</td>\n",
       "    </tr>\n",
       "    <tr>\n",
       "      <th>0</th>\n",
       "      <td>POLYGON ((16024691.510 -4880928.831, 16024650....</td>\n",
       "    </tr>\n",
       "    <tr>\n",
       "      <th>...</th>\n",
       "      <td>...</td>\n",
       "    </tr>\n",
       "    <tr>\n",
       "      <th>0</th>\n",
       "      <td>POLYGON ((16609398.652 -4862047.823, 16609399....</td>\n",
       "    </tr>\n",
       "    <tr>\n",
       "      <th>0</th>\n",
       "      <td>POLYGON ((16507120.125 -4860747.133, 16507068....</td>\n",
       "    </tr>\n",
       "    <tr>\n",
       "      <th>0</th>\n",
       "      <td>POLYGON ((16508257.772 -4860102.518, 16508271....</td>\n",
       "    </tr>\n",
       "    <tr>\n",
       "      <th>0</th>\n",
       "      <td>POLYGON ((16574715.463 -4851664.603, 16574689....</td>\n",
       "    </tr>\n",
       "    <tr>\n",
       "      <th>0</th>\n",
       "      <td>POLYGON ((16507391.948 -4842492.499, 16507392....</td>\n",
       "    </tr>\n",
       "  </tbody>\n",
       "</table>\n",
       "<p>4357 rows × 1 columns</p>\n",
       "</div>"
      ],
      "text/plain": [
       "                                             geometry\n",
       "0   POLYGON ((15963288.922 -5058573.822, 15963315....\n",
       "0   POLYGON ((16106308.595 -4965016.231, 16106347....\n",
       "0   POLYGON ((16377595.030 -5518427.784, 16370766....\n",
       "0   POLYGON ((16068021.311 -4934795.064, 16068009....\n",
       "0   POLYGON ((16024691.510 -4880928.831, 16024650....\n",
       "..                                                ...\n",
       "0   POLYGON ((16609398.652 -4862047.823, 16609399....\n",
       "0   POLYGON ((16507120.125 -4860747.133, 16507068....\n",
       "0   POLYGON ((16508257.772 -4860102.518, 16508271....\n",
       "0   POLYGON ((16574715.463 -4851664.603, 16574689....\n",
       "0   POLYGON ((16507391.948 -4842492.499, 16507392....\n",
       "\n",
       "[4357 rows x 1 columns]"
      ]
     },
     "execution_count": 9,
     "metadata": {},
     "output_type": "execute_result"
    }
   ],
   "source": [
    "# convert multipart poly to single part\n",
    "single_part_gdf = joined_water_gdf_dis.explode(index_parts=False)\n",
    "single_part_gdf"
   ]
  },
  {
   "cell_type": "code",
   "execution_count": 10,
   "metadata": {},
   "outputs": [
    {
     "data": {
      "text/html": [
       "<div>\n",
       "<style scoped>\n",
       "    .dataframe tbody tr th:only-of-type {\n",
       "        vertical-align: middle;\n",
       "    }\n",
       "\n",
       "    .dataframe tbody tr th {\n",
       "        vertical-align: top;\n",
       "    }\n",
       "\n",
       "    .dataframe thead th {\n",
       "        text-align: right;\n",
       "    }\n",
       "</style>\n",
       "<table border=\"1\" class=\"dataframe\">\n",
       "  <thead>\n",
       "    <tr style=\"text-align: right;\">\n",
       "      <th></th>\n",
       "      <th>geometry</th>\n",
       "    </tr>\n",
       "  </thead>\n",
       "  <tbody>\n",
       "    <tr>\n",
       "      <th>0</th>\n",
       "      <td>LINESTRING (15963288.922 -5058573.822, 1596331...</td>\n",
       "    </tr>\n",
       "    <tr>\n",
       "      <th>0</th>\n",
       "      <td>LINESTRING (16106308.595 -4965016.231, 1610634...</td>\n",
       "    </tr>\n",
       "    <tr>\n",
       "      <th>0</th>\n",
       "      <td>LINESTRING (16377595.030 -5518427.784, 1637076...</td>\n",
       "    </tr>\n",
       "    <tr>\n",
       "      <th>0</th>\n",
       "      <td>LINESTRING (16111838.632 -4963032.377, 1611182...</td>\n",
       "    </tr>\n",
       "    <tr>\n",
       "      <th>0</th>\n",
       "      <td>LINESTRING (16121069.540 -5085767.741, 1612105...</td>\n",
       "    </tr>\n",
       "    <tr>\n",
       "      <th>...</th>\n",
       "      <td>...</td>\n",
       "    </tr>\n",
       "    <tr>\n",
       "      <th>0</th>\n",
       "      <td>LINESTRING (16609398.652 -4862047.823, 1660939...</td>\n",
       "    </tr>\n",
       "    <tr>\n",
       "      <th>0</th>\n",
       "      <td>LINESTRING (16507120.125 -4860747.133, 1650706...</td>\n",
       "    </tr>\n",
       "    <tr>\n",
       "      <th>0</th>\n",
       "      <td>LINESTRING (16508257.772 -4860102.518, 1650827...</td>\n",
       "    </tr>\n",
       "    <tr>\n",
       "      <th>0</th>\n",
       "      <td>LINESTRING (16574715.463 -4851664.603, 1657468...</td>\n",
       "    </tr>\n",
       "    <tr>\n",
       "      <th>0</th>\n",
       "      <td>LINESTRING (16507391.948 -4842492.499, 1650739...</td>\n",
       "    </tr>\n",
       "  </tbody>\n",
       "</table>\n",
       "<p>6621 rows × 1 columns</p>\n",
       "</div>"
      ],
      "text/plain": [
       "                                             geometry\n",
       "0   LINESTRING (15963288.922 -5058573.822, 1596331...\n",
       "0   LINESTRING (16106308.595 -4965016.231, 1610634...\n",
       "0   LINESTRING (16377595.030 -5518427.784, 1637076...\n",
       "0   LINESTRING (16111838.632 -4963032.377, 1611182...\n",
       "0   LINESTRING (16121069.540 -5085767.741, 1612105...\n",
       "..                                                ...\n",
       "0   LINESTRING (16609398.652 -4862047.823, 1660939...\n",
       "0   LINESTRING (16507120.125 -4860747.133, 1650706...\n",
       "0   LINESTRING (16508257.772 -4860102.518, 1650827...\n",
       "0   LINESTRING (16574715.463 -4851664.603, 1657468...\n",
       "0   LINESTRING (16507391.948 -4842492.499, 1650739...\n",
       "\n",
       "[6621 rows x 1 columns]"
      ]
     },
     "execution_count": 10,
     "metadata": {},
     "output_type": "execute_result"
    }
   ],
   "source": [
    "single_part_gdf.geometry = single_part_gdf.boundary\n",
    "single_part_gdf = single_part_gdf.explode(index_parts=False)\n",
    "single_part_gdf"
   ]
  },
  {
   "cell_type": "code",
   "execution_count": 11,
   "metadata": {},
   "outputs": [],
   "source": [
    "def chaikin_corner_cutting_optimized(\n",
    "    points: np.ndarray, num_iterations: int = 1\n",
    ") -> np.ndarray:\n",
    "    for _ in range(num_iterations):\n",
    "        if np.array_equal(points[0], points[-1]):\n",
    "            points = np.append(points, [points[1]], axis=0)\n",
    "\n",
    "        p0 = points[:-1]\n",
    "        p1 = points[1:]\n",
    "        q = p0 * 0.75 + p1 * 0.25\n",
    "        r = p0 * 0.25 + p1 * 0.75\n",
    "        new_points = np.empty((2 * len(points) - 2, points.shape[1]))\n",
    "        new_points[0::2] = q\n",
    "        new_points[1::2] = r\n",
    "\n",
    "        if np.array_equal(points[0], points[-2]):\n",
    "            new_points = new_points[1:]\n",
    "            new_points = np.append(new_points, [new_points[0]], axis=0)\n",
    "        else:\n",
    "            new_points = np.append(new_points, [points[-1]], axis=0)\n",
    "\n",
    "        points = new_points\n",
    "\n",
    "    return points\n",
    "\n",
    "\n",
    "def smooth_geodataframe_optimized(\n",
    "    gdf: gpd.GeoDataFrame, num_iterations: int = 1\n",
    ") -> gpd.GeoDataFrame:\n",
    "    gdf[\"geometry\"] = gdf[\"geometry\"].apply(\n",
    "        lambda line: LineString(\n",
    "            chaikin_corner_cutting_optimized(\n",
    "                np.array(line.coords), num_iterations=num_iterations\n",
    "            )\n",
    "        )\n",
    "    )\n",
    "\n",
    "    return gdf"
   ]
  },
  {
   "cell_type": "code",
   "execution_count": 12,
   "metadata": {},
   "outputs": [
    {
     "data": {
      "text/html": [
       "<div>\n",
       "<style scoped>\n",
       "    .dataframe tbody tr th:only-of-type {\n",
       "        vertical-align: middle;\n",
       "    }\n",
       "\n",
       "    .dataframe tbody tr th {\n",
       "        vertical-align: top;\n",
       "    }\n",
       "\n",
       "    .dataframe thead th {\n",
       "        text-align: right;\n",
       "    }\n",
       "</style>\n",
       "<table border=\"1\" class=\"dataframe\">\n",
       "  <thead>\n",
       "    <tr style=\"text-align: right;\">\n",
       "      <th></th>\n",
       "      <th>geometry</th>\n",
       "    </tr>\n",
       "  </thead>\n",
       "  <tbody>\n",
       "    <tr>\n",
       "      <th>0</th>\n",
       "      <td>LINESTRING (15963311.483 -5058578.201, 1596331...</td>\n",
       "    </tr>\n",
       "    <tr>\n",
       "      <th>0</th>\n",
       "      <td>LINESTRING (16106345.157 -4965034.552, 1610634...</td>\n",
       "    </tr>\n",
       "    <tr>\n",
       "      <th>0</th>\n",
       "      <td>LINESTRING (16369912.587 -5518394.202, 1636820...</td>\n",
       "    </tr>\n",
       "    <tr>\n",
       "      <th>0</th>\n",
       "      <td>LINESTRING (16111826.931 -4963007.288, 1611182...</td>\n",
       "    </tr>\n",
       "    <tr>\n",
       "      <th>0</th>\n",
       "      <td>LINESTRING (16121063.596 -5085805.239, 1612107...</td>\n",
       "    </tr>\n",
       "    <tr>\n",
       "      <th>...</th>\n",
       "      <td>...</td>\n",
       "    </tr>\n",
       "    <tr>\n",
       "      <th>0</th>\n",
       "      <td>LINESTRING (16609392.170 -4862082.335, 1660938...</td>\n",
       "    </tr>\n",
       "    <tr>\n",
       "      <th>0</th>\n",
       "      <td>LINESTRING (16507068.921 -4860755.234, 1650706...</td>\n",
       "    </tr>\n",
       "    <tr>\n",
       "      <th>0</th>\n",
       "      <td>LINESTRING (16508260.641 -4860131.917, 1650825...</td>\n",
       "    </tr>\n",
       "    <tr>\n",
       "      <th>0</th>\n",
       "      <td>LINESTRING (16574693.396 -4851660.170, 1657469...</td>\n",
       "    </tr>\n",
       "    <tr>\n",
       "      <th>0</th>\n",
       "      <td>LINESTRING (16507382.755 -4842531.817, 1650737...</td>\n",
       "    </tr>\n",
       "  </tbody>\n",
       "</table>\n",
       "<p>6621 rows × 1 columns</p>\n",
       "</div>"
      ],
      "text/plain": [
       "                                             geometry\n",
       "0   LINESTRING (15963311.483 -5058578.201, 1596331...\n",
       "0   LINESTRING (16106345.157 -4965034.552, 1610634...\n",
       "0   LINESTRING (16369912.587 -5518394.202, 1636820...\n",
       "0   LINESTRING (16111826.931 -4963007.288, 1611182...\n",
       "0   LINESTRING (16121063.596 -5085805.239, 1612107...\n",
       "..                                                ...\n",
       "0   LINESTRING (16609392.170 -4862082.335, 1660938...\n",
       "0   LINESTRING (16507068.921 -4860755.234, 1650706...\n",
       "0   LINESTRING (16508260.641 -4860131.917, 1650825...\n",
       "0   LINESTRING (16574693.396 -4851660.170, 1657469...\n",
       "0   LINESTRING (16507382.755 -4842531.817, 1650737...\n",
       "\n",
       "[6621 rows x 1 columns]"
      ]
     },
     "execution_count": 12,
     "metadata": {},
     "output_type": "execute_result"
    }
   ],
   "source": [
    "lines_gpd = smooth_geodataframe_optimized(single_part_gdf, num_iterations=2)\n",
    "lines_gpd"
   ]
  },
  {
   "cell_type": "code",
   "execution_count": 13,
   "metadata": {},
   "outputs": [],
   "source": [
    "lines_gpd.to_file(output_vector)"
   ]
  },
  {
   "cell_type": "code",
   "execution_count": null,
   "metadata": {},
   "outputs": [],
   "source": []
  },
  {
   "cell_type": "code",
   "execution_count": null,
   "metadata": {},
   "outputs": [],
   "source": []
  }
 ],
 "metadata": {
  "kernelspec": {
   "display_name": "gis",
   "language": "python",
   "name": "python3"
  },
  "language_info": {
   "codemirror_mode": {
    "name": "ipython",
    "version": 3
   },
   "file_extension": ".py",
   "mimetype": "text/x-python",
   "name": "python",
   "nbconvert_exporter": "python",
   "pygments_lexer": "ipython3",
   "version": "3.8.16"
  }
 },
 "nbformat": 4,
 "nbformat_minor": 2
}
