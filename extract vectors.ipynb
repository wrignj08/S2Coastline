{
 "cells": [
  {
   "cell_type": "markdown",
   "metadata": {},
   "source": [
    "This Notebook converts the output of the inference notebook into nice smooth vectors, this works fine for a small number of scenes, but i suspect will not scale.\n"
   ]
  },
  {
   "cell_type": "code",
   "execution_count": null,
   "metadata": {},
   "outputs": [],
   "source": [
    "from pathlib import Path\n",
    "\n",
    "import geopandas as gpd\n",
    "from shapely.geometry import LineString\n",
    "import numpy as np\n",
    "from rasterio import features\n",
    "import rasterio as rio\n",
    "from tqdm.auto import tqdm\n",
    "from shapely.geometry import shape, box\n",
    "import pandas as pd\n",
    "from multiprocessing import Pool"
   ]
  },
  {
   "cell_type": "code",
   "execution_count": null,
   "metadata": {},
   "outputs": [],
   "source": [
    "input_rasters = Path(\"/media/nick/SSD1/Coast test/Aus_3\")"
   ]
  },
  {
   "cell_type": "code",
   "execution_count": null,
   "metadata": {},
   "outputs": [],
   "source": [
    "rasters = list(input_rasters.glob(\"*11.tif\"))\n",
    "len(rasters)"
   ]
  },
  {
   "cell_type": "code",
   "execution_count": null,
   "metadata": {},
   "outputs": [],
   "source": [
    "output_vector = input_rasters / f\"{rasters[0].stem}.gpkg\"\n",
    "output_vector"
   ]
  },
  {
   "cell_type": "code",
   "execution_count": null,
   "metadata": {},
   "outputs": [],
   "source": [
    "def simplify_geometries(gdf: gpd.GeoDataFrame, tolerance: float) -> gpd.GeoDataFrame:\n",
    "    new_gdf = gdf.copy()\n",
    "    new_gdf[\"geometry\"] = new_gdf[\"geometry\"].simplify(\n",
    "        tolerance, preserve_topology=False\n",
    "    )\n",
    "    return gpd.GeoDataFrame(new_gdf)"
   ]
  },
  {
   "cell_type": "code",
   "execution_count": null,
   "metadata": {},
   "outputs": [],
   "source": [
    "def extract_polygons(chunk, px_size):\n",
    "    with rio.open(chunk) as src:\n",
    "        local_epsg = src.meta[\"crs\"].to_epsg()\n",
    "        water_array = src.read(1).astype(\"uint8\")\n",
    "        mask = water_array == 1\n",
    "        # data_bouds = box(*src.bounds)\n",
    "\n",
    "    shapes = features.shapes(\n",
    "        water_array, mask=mask, transform=src.transform, connectivity=4\n",
    "    )\n",
    "    water_array = None\n",
    "    geoms = []\n",
    "    values = []\n",
    "    for shapedict, value in shapes:\n",
    "        geoms.append(shape(shapedict))\n",
    "        values.append(value)\n",
    "\n",
    "    water_gdf = gpd.GeoDataFrame({\"geometry\": geoms}, crs=f\"EPSG:{local_epsg}\")\n",
    "    water_gdf = simplify_geometries(water_gdf, px_size)\n",
    "\n",
    "    water_gdf_wgs = water_gdf.to_crs(3857)\n",
    "\n",
    "    water_gdf_wgs[\"geometry\"] = water_gdf_wgs.buffer(0)\n",
    "\n",
    "    return water_gdf_wgs"
   ]
  },
  {
   "cell_type": "code",
   "execution_count": null,
   "metadata": {},
   "outputs": [],
   "source": [
    "water_polygons = []\n",
    "for i in rasters:\n",
    "    water_polygons.append(extract_polygons(i, px_size=10))"
   ]
  },
  {
   "cell_type": "code",
   "execution_count": null,
   "metadata": {},
   "outputs": [],
   "source": [
    "# join all chunks into one gds\n",
    "joined_water_gdf = pd.concat(water_polygons, ignore_index=True)\n",
    "joined_water_gdf_dis = joined_water_gdf.dissolve()\n",
    "joined_water_gdf_dis"
   ]
  },
  {
   "cell_type": "code",
   "execution_count": null,
   "metadata": {},
   "outputs": [],
   "source": [
    "# convert multipart poly to single part\n",
    "single_part_gdf = joined_water_gdf_dis.explode(index_parts=False)\n",
    "single_part_gdf"
   ]
  },
  {
   "cell_type": "code",
   "execution_count": null,
   "metadata": {},
   "outputs": [],
   "source": [
    "single_part_gdf.geometry = single_part_gdf.boundary\n",
    "single_part_gdf = single_part_gdf.explode(index_parts=False)\n",
    "single_part_gdf"
   ]
  },
  {
   "cell_type": "code",
   "execution_count": null,
   "metadata": {},
   "outputs": [],
   "source": [
    "def chaikin_corner_cutting_optimized(\n",
    "    points: np.ndarray, num_iterations: int = 1\n",
    ") -> np.ndarray:\n",
    "    for _ in range(num_iterations):\n",
    "        if np.array_equal(points[0], points[-1]):\n",
    "            points = np.append(points, [points[1]], axis=0)\n",
    "\n",
    "        p0 = points[:-1]\n",
    "        p1 = points[1:]\n",
    "        q = p0 * 0.75 + p1 * 0.25\n",
    "        r = p0 * 0.25 + p1 * 0.75\n",
    "        new_points = np.empty((2 * len(points) - 2, points.shape[1]))\n",
    "        new_points[0::2] = q\n",
    "        new_points[1::2] = r\n",
    "\n",
    "        if np.array_equal(points[0], points[-2]):\n",
    "            new_points = new_points[1:]\n",
    "            new_points = np.append(new_points, [new_points[0]], axis=0)\n",
    "        else:\n",
    "            new_points = np.append(new_points, [points[-1]], axis=0)\n",
    "\n",
    "        points = new_points\n",
    "\n",
    "    return points\n",
    "\n",
    "\n",
    "def smooth_geodataframe_optimized(\n",
    "    gdf: gpd.GeoDataFrame, num_iterations: int = 1\n",
    ") -> gpd.GeoDataFrame:\n",
    "    gdf[\"geometry\"] = gdf[\"geometry\"].apply(\n",
    "        lambda line: LineString(\n",
    "            chaikin_corner_cutting_optimized(\n",
    "                np.array(line.coords), num_iterations=num_iterations\n",
    "            )\n",
    "        )\n",
    "    )\n",
    "\n",
    "    return gdf"
   ]
  },
  {
   "cell_type": "code",
   "execution_count": null,
   "metadata": {},
   "outputs": [],
   "source": [
    "lines_gpd = smooth_geodataframe_optimized(single_part_gdf, num_iterations=2)\n",
    "lines_gpd"
   ]
  },
  {
   "cell_type": "code",
   "execution_count": null,
   "metadata": {},
   "outputs": [],
   "source": [
    "lines_gpd.to_file(output_vector)"
   ]
  }
 ],
 "metadata": {
  "kernelspec": {
   "display_name": "gis",
   "language": "python",
   "name": "python3"
  },
  "language_info": {
   "codemirror_mode": {
    "name": "ipython",
    "version": 3
   },
   "file_extension": ".py",
   "mimetype": "text/x-python",
   "name": "python",
   "nbconvert_exporter": "python",
   "pygments_lexer": "ipython3",
   "version": "3.8.16"
  }
 },
 "nbformat": 4,
 "nbformat_minor": 2
}
